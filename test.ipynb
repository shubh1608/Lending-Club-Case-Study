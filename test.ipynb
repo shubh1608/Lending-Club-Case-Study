{
 "cells": [
  {
   "cell_type": "markdown",
   "metadata": {},
   "source": [
    "# Lending Club Case Study"
   ]
  },
  {
   "cell_type": "code",
   "execution_count": 1,
   "metadata": {},
   "outputs": [],
   "source": [
    "import pandas as pd\n",
    "import numpy as np\n",
    "import matplotlib.pyplot as plt\n",
    "import matplotlib.style as style \n",
    "import seaborn as sns\n",
    "import warnings\n",
    "warnings.filterwarnings('ignore')\n",
    "\n",
    "style.use('ggplot')"
   ]
  },
  {
   "cell_type": "markdown",
   "metadata": {},
   "source": [
    "Reading loan data set"
   ]
  },
  {
   "cell_type": "code",
   "execution_count": 2,
   "metadata": {},
   "outputs": [
    {
     "data": {
      "text/html": [
       "<div>\n",
       "<style scoped>\n",
       "    .dataframe tbody tr th:only-of-type {\n",
       "        vertical-align: middle;\n",
       "    }\n",
       "\n",
       "    .dataframe tbody tr th {\n",
       "        vertical-align: top;\n",
       "    }\n",
       "\n",
       "    .dataframe thead th {\n",
       "        text-align: right;\n",
       "    }\n",
       "</style>\n",
       "<table border=\"1\" class=\"dataframe\">\n",
       "  <thead>\n",
       "    <tr style=\"text-align: right;\">\n",
       "      <th></th>\n",
       "      <th>id</th>\n",
       "      <th>member_id</th>\n",
       "      <th>loan_amnt</th>\n",
       "      <th>funded_amnt</th>\n",
       "      <th>funded_amnt_inv</th>\n",
       "      <th>term</th>\n",
       "      <th>int_rate</th>\n",
       "      <th>installment</th>\n",
       "      <th>grade</th>\n",
       "      <th>sub_grade</th>\n",
       "      <th>...</th>\n",
       "      <th>num_tl_90g_dpd_24m</th>\n",
       "      <th>num_tl_op_past_12m</th>\n",
       "      <th>pct_tl_nvr_dlq</th>\n",
       "      <th>percent_bc_gt_75</th>\n",
       "      <th>pub_rec_bankruptcies</th>\n",
       "      <th>tax_liens</th>\n",
       "      <th>tot_hi_cred_lim</th>\n",
       "      <th>total_bal_ex_mort</th>\n",
       "      <th>total_bc_limit</th>\n",
       "      <th>total_il_high_credit_limit</th>\n",
       "    </tr>\n",
       "  </thead>\n",
       "  <tbody>\n",
       "    <tr>\n",
       "      <th>0</th>\n",
       "      <td>1077501</td>\n",
       "      <td>1296599</td>\n",
       "      <td>5000</td>\n",
       "      <td>5000</td>\n",
       "      <td>4975.0</td>\n",
       "      <td>36 months</td>\n",
       "      <td>10.65%</td>\n",
       "      <td>162.87</td>\n",
       "      <td>B</td>\n",
       "      <td>B2</td>\n",
       "      <td>...</td>\n",
       "      <td>NaN</td>\n",
       "      <td>NaN</td>\n",
       "      <td>NaN</td>\n",
       "      <td>NaN</td>\n",
       "      <td>0.0</td>\n",
       "      <td>0.0</td>\n",
       "      <td>NaN</td>\n",
       "      <td>NaN</td>\n",
       "      <td>NaN</td>\n",
       "      <td>NaN</td>\n",
       "    </tr>\n",
       "    <tr>\n",
       "      <th>1</th>\n",
       "      <td>1077430</td>\n",
       "      <td>1314167</td>\n",
       "      <td>2500</td>\n",
       "      <td>2500</td>\n",
       "      <td>2500.0</td>\n",
       "      <td>60 months</td>\n",
       "      <td>15.27%</td>\n",
       "      <td>59.83</td>\n",
       "      <td>C</td>\n",
       "      <td>C4</td>\n",
       "      <td>...</td>\n",
       "      <td>NaN</td>\n",
       "      <td>NaN</td>\n",
       "      <td>NaN</td>\n",
       "      <td>NaN</td>\n",
       "      <td>0.0</td>\n",
       "      <td>0.0</td>\n",
       "      <td>NaN</td>\n",
       "      <td>NaN</td>\n",
       "      <td>NaN</td>\n",
       "      <td>NaN</td>\n",
       "    </tr>\n",
       "    <tr>\n",
       "      <th>2</th>\n",
       "      <td>1077175</td>\n",
       "      <td>1313524</td>\n",
       "      <td>2400</td>\n",
       "      <td>2400</td>\n",
       "      <td>2400.0</td>\n",
       "      <td>36 months</td>\n",
       "      <td>15.96%</td>\n",
       "      <td>84.33</td>\n",
       "      <td>C</td>\n",
       "      <td>C5</td>\n",
       "      <td>...</td>\n",
       "      <td>NaN</td>\n",
       "      <td>NaN</td>\n",
       "      <td>NaN</td>\n",
       "      <td>NaN</td>\n",
       "      <td>0.0</td>\n",
       "      <td>0.0</td>\n",
       "      <td>NaN</td>\n",
       "      <td>NaN</td>\n",
       "      <td>NaN</td>\n",
       "      <td>NaN</td>\n",
       "    </tr>\n",
       "    <tr>\n",
       "      <th>3</th>\n",
       "      <td>1076863</td>\n",
       "      <td>1277178</td>\n",
       "      <td>10000</td>\n",
       "      <td>10000</td>\n",
       "      <td>10000.0</td>\n",
       "      <td>36 months</td>\n",
       "      <td>13.49%</td>\n",
       "      <td>339.31</td>\n",
       "      <td>C</td>\n",
       "      <td>C1</td>\n",
       "      <td>...</td>\n",
       "      <td>NaN</td>\n",
       "      <td>NaN</td>\n",
       "      <td>NaN</td>\n",
       "      <td>NaN</td>\n",
       "      <td>0.0</td>\n",
       "      <td>0.0</td>\n",
       "      <td>NaN</td>\n",
       "      <td>NaN</td>\n",
       "      <td>NaN</td>\n",
       "      <td>NaN</td>\n",
       "    </tr>\n",
       "    <tr>\n",
       "      <th>4</th>\n",
       "      <td>1075358</td>\n",
       "      <td>1311748</td>\n",
       "      <td>3000</td>\n",
       "      <td>3000</td>\n",
       "      <td>3000.0</td>\n",
       "      <td>60 months</td>\n",
       "      <td>12.69%</td>\n",
       "      <td>67.79</td>\n",
       "      <td>B</td>\n",
       "      <td>B5</td>\n",
       "      <td>...</td>\n",
       "      <td>NaN</td>\n",
       "      <td>NaN</td>\n",
       "      <td>NaN</td>\n",
       "      <td>NaN</td>\n",
       "      <td>0.0</td>\n",
       "      <td>0.0</td>\n",
       "      <td>NaN</td>\n",
       "      <td>NaN</td>\n",
       "      <td>NaN</td>\n",
       "      <td>NaN</td>\n",
       "    </tr>\n",
       "  </tbody>\n",
       "</table>\n",
       "<p>5 rows × 111 columns</p>\n",
       "</div>"
      ],
      "text/plain": [
       "        id  member_id  loan_amnt  funded_amnt  funded_amnt_inv        term  \\\n",
       "0  1077501    1296599       5000         5000           4975.0   36 months   \n",
       "1  1077430    1314167       2500         2500           2500.0   60 months   \n",
       "2  1077175    1313524       2400         2400           2400.0   36 months   \n",
       "3  1076863    1277178      10000        10000          10000.0   36 months   \n",
       "4  1075358    1311748       3000         3000           3000.0   60 months   \n",
       "\n",
       "  int_rate  installment grade sub_grade  ... num_tl_90g_dpd_24m  \\\n",
       "0   10.65%       162.87     B        B2  ...                NaN   \n",
       "1   15.27%        59.83     C        C4  ...                NaN   \n",
       "2   15.96%        84.33     C        C5  ...                NaN   \n",
       "3   13.49%       339.31     C        C1  ...                NaN   \n",
       "4   12.69%        67.79     B        B5  ...                NaN   \n",
       "\n",
       "  num_tl_op_past_12m pct_tl_nvr_dlq  percent_bc_gt_75 pub_rec_bankruptcies  \\\n",
       "0                NaN            NaN               NaN                  0.0   \n",
       "1                NaN            NaN               NaN                  0.0   \n",
       "2                NaN            NaN               NaN                  0.0   \n",
       "3                NaN            NaN               NaN                  0.0   \n",
       "4                NaN            NaN               NaN                  0.0   \n",
       "\n",
       "  tax_liens tot_hi_cred_lim total_bal_ex_mort total_bc_limit  \\\n",
       "0       0.0             NaN               NaN            NaN   \n",
       "1       0.0             NaN               NaN            NaN   \n",
       "2       0.0             NaN               NaN            NaN   \n",
       "3       0.0             NaN               NaN            NaN   \n",
       "4       0.0             NaN               NaN            NaN   \n",
       "\n",
       "  total_il_high_credit_limit  \n",
       "0                        NaN  \n",
       "1                        NaN  \n",
       "2                        NaN  \n",
       "3                        NaN  \n",
       "4                        NaN  \n",
       "\n",
       "[5 rows x 111 columns]"
      ]
     },
     "execution_count": 2,
     "metadata": {},
     "output_type": "execute_result"
    }
   ],
   "source": [
    "loan=pd.read_csv('loan.csv', encoding='utf-8', low_memory=False)\n",
    "loan.head()"
   ]
  },
  {
   "cell_type": "code",
   "execution_count": 3,
   "metadata": {},
   "outputs": [
    {
     "name": "stdout",
     "output_type": "stream",
     "text": [
      "<class 'pandas.core.frame.DataFrame'>\n",
      "RangeIndex: 39717 entries, 0 to 39716\n",
      "Columns: 111 entries, id to total_il_high_credit_limit\n",
      "dtypes: float64(74), int64(13), object(24)\n",
      "memory usage: 33.6+ MB\n"
     ]
    }
   ],
   "source": [
    "loan.info()"
   ]
  },
  {
   "cell_type": "markdown",
   "metadata": {},
   "source": [
    "### Data Cleaning"
   ]
  },
  {
   "cell_type": "markdown",
   "metadata": {},
   "source": [
    "Identifying the percentage of missing values in rows"
   ]
  },
  {
   "cell_type": "code",
   "execution_count": 4,
   "metadata": {},
   "outputs": [
    {
     "data": {
      "text/plain": [
       "id                                  0.00\n",
       "member_id                           0.00\n",
       "loan_amnt                           0.00\n",
       "funded_amnt                         0.00\n",
       "funded_amnt_inv                     0.00\n",
       "term                                0.00\n",
       "int_rate                            0.00\n",
       "installment                         0.00\n",
       "grade                               0.00\n",
       "sub_grade                           0.00\n",
       "emp_title                           6.19\n",
       "emp_length                          2.71\n",
       "home_ownership                      0.00\n",
       "annual_inc                          0.00\n",
       "verification_status                 0.00\n",
       "issue_d                             0.00\n",
       "loan_status                         0.00\n",
       "pymnt_plan                          0.00\n",
       "url                                 0.00\n",
       "desc                               32.58\n",
       "purpose                             0.00\n",
       "title                               0.03\n",
       "zip_code                            0.00\n",
       "addr_state                          0.00\n",
       "dti                                 0.00\n",
       "delinq_2yrs                         0.00\n",
       "earliest_cr_line                    0.00\n",
       "inq_last_6mths                      0.00\n",
       "mths_since_last_delinq             64.66\n",
       "mths_since_last_record             92.99\n",
       "                                   ...  \n",
       "mo_sin_old_rev_tl_op              100.00\n",
       "mo_sin_rcnt_rev_tl_op             100.00\n",
       "mo_sin_rcnt_tl                    100.00\n",
       "mort_acc                          100.00\n",
       "mths_since_recent_bc              100.00\n",
       "mths_since_recent_bc_dlq          100.00\n",
       "mths_since_recent_inq             100.00\n",
       "mths_since_recent_revol_delinq    100.00\n",
       "num_accts_ever_120_pd             100.00\n",
       "num_actv_bc_tl                    100.00\n",
       "num_actv_rev_tl                   100.00\n",
       "num_bc_sats                       100.00\n",
       "num_bc_tl                         100.00\n",
       "num_il_tl                         100.00\n",
       "num_op_rev_tl                     100.00\n",
       "num_rev_accts                     100.00\n",
       "num_rev_tl_bal_gt_0               100.00\n",
       "num_sats                          100.00\n",
       "num_tl_120dpd_2m                  100.00\n",
       "num_tl_30dpd                      100.00\n",
       "num_tl_90g_dpd_24m                100.00\n",
       "num_tl_op_past_12m                100.00\n",
       "pct_tl_nvr_dlq                    100.00\n",
       "percent_bc_gt_75                  100.00\n",
       "pub_rec_bankruptcies                1.75\n",
       "tax_liens                           0.10\n",
       "tot_hi_cred_lim                   100.00\n",
       "total_bal_ex_mort                 100.00\n",
       "total_bc_limit                    100.00\n",
       "total_il_high_credit_limit        100.00\n",
       "Length: 111, dtype: float64"
      ]
     },
     "execution_count": 4,
     "metadata": {},
     "output_type": "execute_result"
    }
   ],
   "source": [
    "missing_cols = round(100*((loan.isnull().sum())/(len(loan.index))),2)\n",
    "missing_cols"
   ]
  },
  {
   "cell_type": "markdown",
   "metadata": {},
   "source": [
    "Below are the list of columns having more than 50% values missing.\n",
    "It's better to drop these rows as it won't contribute much in our analysis."
   ]
  },
  {
   "cell_type": "code",
   "execution_count": 5,
   "metadata": {},
   "outputs": [
    {
     "data": {
      "text/plain": [
       "['mths_since_last_delinq',\n",
       " 'mths_since_last_record',\n",
       " 'next_pymnt_d',\n",
       " 'mths_since_last_major_derog',\n",
       " 'annual_inc_joint',\n",
       " 'dti_joint',\n",
       " 'verification_status_joint',\n",
       " 'tot_coll_amt',\n",
       " 'tot_cur_bal',\n",
       " 'open_acc_6m',\n",
       " 'open_il_6m',\n",
       " 'open_il_12m',\n",
       " 'open_il_24m',\n",
       " 'mths_since_rcnt_il',\n",
       " 'total_bal_il',\n",
       " 'il_util',\n",
       " 'open_rv_12m',\n",
       " 'open_rv_24m',\n",
       " 'max_bal_bc',\n",
       " 'all_util',\n",
       " 'total_rev_hi_lim',\n",
       " 'inq_fi',\n",
       " 'total_cu_tl',\n",
       " 'inq_last_12m',\n",
       " 'acc_open_past_24mths',\n",
       " 'avg_cur_bal',\n",
       " 'bc_open_to_buy',\n",
       " 'bc_util',\n",
       " 'mo_sin_old_il_acct',\n",
       " 'mo_sin_old_rev_tl_op',\n",
       " 'mo_sin_rcnt_rev_tl_op',\n",
       " 'mo_sin_rcnt_tl',\n",
       " 'mort_acc',\n",
       " 'mths_since_recent_bc',\n",
       " 'mths_since_recent_bc_dlq',\n",
       " 'mths_since_recent_inq',\n",
       " 'mths_since_recent_revol_delinq',\n",
       " 'num_accts_ever_120_pd',\n",
       " 'num_actv_bc_tl',\n",
       " 'num_actv_rev_tl',\n",
       " 'num_bc_sats',\n",
       " 'num_bc_tl',\n",
       " 'num_il_tl',\n",
       " 'num_op_rev_tl',\n",
       " 'num_rev_accts',\n",
       " 'num_rev_tl_bal_gt_0',\n",
       " 'num_sats',\n",
       " 'num_tl_120dpd_2m',\n",
       " 'num_tl_30dpd',\n",
       " 'num_tl_90g_dpd_24m',\n",
       " 'num_tl_op_past_12m',\n",
       " 'pct_tl_nvr_dlq',\n",
       " 'percent_bc_gt_75',\n",
       " 'tot_hi_cred_lim',\n",
       " 'total_bal_ex_mort',\n",
       " 'total_bc_limit',\n",
       " 'total_il_high_credit_limit']"
      ]
     },
     "execution_count": 5,
     "metadata": {},
     "output_type": "execute_result"
    }
   ],
   "source": [
    "cols_to_drop = list(missing_cols[missing_cols > 50].index)\n",
    "cols_to_drop"
   ]
  },
  {
   "cell_type": "code",
   "execution_count": 6,
   "metadata": {},
   "outputs": [
    {
     "data": {
      "text/plain": [
       "(39717, 111)"
      ]
     },
     "execution_count": 6,
     "metadata": {},
     "output_type": "execute_result"
    }
   ],
   "source": [
    "loan.shape"
   ]
  },
  {
   "cell_type": "markdown",
   "metadata": {},
   "source": [
    "There are 111 columns in total and after dropping rows, we are left with 54 columns."
   ]
  },
  {
   "cell_type": "code",
   "execution_count": 7,
   "metadata": {},
   "outputs": [
    {
     "data": {
      "text/plain": [
       "(39717, 54)"
      ]
     },
     "execution_count": 7,
     "metadata": {},
     "output_type": "execute_result"
    }
   ],
   "source": [
    "loan.drop(cols_to_drop, axis=1, inplace = True)\n",
    "loan.shape"
   ]
  },
  {
   "cell_type": "markdown",
   "metadata": {},
   "source": [
    "Let's move and check further for missing values. We can see below there are still 11 rows with missing values, let's clean them up step by step."
   ]
  },
  {
   "cell_type": "code",
   "execution_count": 8,
   "metadata": {},
   "outputs": [
    {
     "data": {
      "text/plain": [
       "emp_title                      6.19\n",
       "emp_length                     2.71\n",
       "desc                          32.58\n",
       "title                          0.03\n",
       "revol_util                     0.13\n",
       "last_pymnt_d                   0.18\n",
       "last_credit_pull_d             0.01\n",
       "collections_12_mths_ex_med     0.14\n",
       "chargeoff_within_12_mths       0.14\n",
       "pub_rec_bankruptcies           1.75\n",
       "tax_liens                      0.10\n",
       "dtype: float64"
      ]
     },
     "execution_count": 8,
     "metadata": {},
     "output_type": "execute_result"
    }
   ],
   "source": [
    "missing_cols=round(100*((loan.isnull().sum())/(len(loan.index))),2)\n",
    "missing_cols[missing_cols > 0]"
   ]
  },
  {
   "cell_type": "markdown",
   "metadata": {},
   "source": [
    "We can see desc column has considerably more null values.\n",
    "Desc column has Loan description provided by the borrower. It seems this column wont contribute in our analysis and this information can be deduced by other columns such as Purpose."
   ]
  },
  {
   "cell_type": "code",
   "execution_count": 9,
   "metadata": {},
   "outputs": [
    {
     "data": {
      "text/plain": [
       "(39717, 53)"
      ]
     },
     "execution_count": 9,
     "metadata": {},
     "output_type": "execute_result"
    }
   ],
   "source": [
    "loan.drop(columns=['desc'], inplace = True)\n",
    "loan.shape"
   ]
  },
  {
   "cell_type": "markdown",
   "metadata": {},
   "source": [
    "Let's move ahead and check the nature of all remaining columns having missing values."
   ]
  },
  {
   "cell_type": "code",
   "execution_count": 10,
   "metadata": {},
   "outputs": [
    {
     "data": {
      "text/html": [
       "<div>\n",
       "<style scoped>\n",
       "    .dataframe tbody tr th:only-of-type {\n",
       "        vertical-align: middle;\n",
       "    }\n",
       "\n",
       "    .dataframe tbody tr th {\n",
       "        vertical-align: top;\n",
       "    }\n",
       "\n",
       "    .dataframe thead th {\n",
       "        text-align: right;\n",
       "    }\n",
       "</style>\n",
       "<table border=\"1\" class=\"dataframe\">\n",
       "  <thead>\n",
       "    <tr style=\"text-align: right;\">\n",
       "      <th></th>\n",
       "      <th>emp_title</th>\n",
       "      <th>emp_length</th>\n",
       "      <th>title</th>\n",
       "      <th>revol_util</th>\n",
       "      <th>last_pymnt_d</th>\n",
       "      <th>last_credit_pull_d</th>\n",
       "      <th>collections_12_mths_ex_med</th>\n",
       "      <th>chargeoff_within_12_mths</th>\n",
       "      <th>pub_rec_bankruptcies</th>\n",
       "      <th>tax_liens</th>\n",
       "    </tr>\n",
       "  </thead>\n",
       "  <tbody>\n",
       "    <tr>\n",
       "      <th>0</th>\n",
       "      <td>NaN</td>\n",
       "      <td>10+ years</td>\n",
       "      <td>Computer</td>\n",
       "      <td>83.70%</td>\n",
       "      <td>Jan-15</td>\n",
       "      <td>May-16</td>\n",
       "      <td>0.0</td>\n",
       "      <td>0.0</td>\n",
       "      <td>0.0</td>\n",
       "      <td>0.0</td>\n",
       "    </tr>\n",
       "    <tr>\n",
       "      <th>1</th>\n",
       "      <td>Ryder</td>\n",
       "      <td>&lt; 1 year</td>\n",
       "      <td>bike</td>\n",
       "      <td>9.40%</td>\n",
       "      <td>Apr-13</td>\n",
       "      <td>Sep-13</td>\n",
       "      <td>0.0</td>\n",
       "      <td>0.0</td>\n",
       "      <td>0.0</td>\n",
       "      <td>0.0</td>\n",
       "    </tr>\n",
       "    <tr>\n",
       "      <th>2</th>\n",
       "      <td>NaN</td>\n",
       "      <td>10+ years</td>\n",
       "      <td>real estate business</td>\n",
       "      <td>98.50%</td>\n",
       "      <td>Jun-14</td>\n",
       "      <td>May-16</td>\n",
       "      <td>0.0</td>\n",
       "      <td>0.0</td>\n",
       "      <td>0.0</td>\n",
       "      <td>0.0</td>\n",
       "    </tr>\n",
       "    <tr>\n",
       "      <th>3</th>\n",
       "      <td>AIR RESOURCES BOARD</td>\n",
       "      <td>10+ years</td>\n",
       "      <td>personel</td>\n",
       "      <td>21%</td>\n",
       "      <td>Jan-15</td>\n",
       "      <td>Apr-16</td>\n",
       "      <td>0.0</td>\n",
       "      <td>0.0</td>\n",
       "      <td>0.0</td>\n",
       "      <td>0.0</td>\n",
       "    </tr>\n",
       "    <tr>\n",
       "      <th>4</th>\n",
       "      <td>University Medical Group</td>\n",
       "      <td>1 year</td>\n",
       "      <td>Personal</td>\n",
       "      <td>53.90%</td>\n",
       "      <td>May-16</td>\n",
       "      <td>May-16</td>\n",
       "      <td>0.0</td>\n",
       "      <td>0.0</td>\n",
       "      <td>0.0</td>\n",
       "      <td>0.0</td>\n",
       "    </tr>\n",
       "    <tr>\n",
       "      <th>5</th>\n",
       "      <td>Veolia Transportaton</td>\n",
       "      <td>3 years</td>\n",
       "      <td>My wedding loan I promise to pay back</td>\n",
       "      <td>28.30%</td>\n",
       "      <td>Jan-15</td>\n",
       "      <td>Jan-16</td>\n",
       "      <td>0.0</td>\n",
       "      <td>0.0</td>\n",
       "      <td>0.0</td>\n",
       "      <td>0.0</td>\n",
       "    </tr>\n",
       "    <tr>\n",
       "      <th>6</th>\n",
       "      <td>Southern Star Photography</td>\n",
       "      <td>8 years</td>\n",
       "      <td>Loan</td>\n",
       "      <td>85.60%</td>\n",
       "      <td>May-16</td>\n",
       "      <td>May-16</td>\n",
       "      <td>0.0</td>\n",
       "      <td>0.0</td>\n",
       "      <td>0.0</td>\n",
       "      <td>0.0</td>\n",
       "    </tr>\n",
       "    <tr>\n",
       "      <th>7</th>\n",
       "      <td>MKC Accounting</td>\n",
       "      <td>9 years</td>\n",
       "      <td>Car Downpayment</td>\n",
       "      <td>87.50%</td>\n",
       "      <td>Jan-15</td>\n",
       "      <td>Dec-14</td>\n",
       "      <td>0.0</td>\n",
       "      <td>0.0</td>\n",
       "      <td>0.0</td>\n",
       "      <td>0.0</td>\n",
       "    </tr>\n",
       "    <tr>\n",
       "      <th>8</th>\n",
       "      <td>NaN</td>\n",
       "      <td>4 years</td>\n",
       "      <td>Expand Business &amp; Buy Debt Portfolio</td>\n",
       "      <td>32.60%</td>\n",
       "      <td>Apr-12</td>\n",
       "      <td>Aug-12</td>\n",
       "      <td>0.0</td>\n",
       "      <td>0.0</td>\n",
       "      <td>0.0</td>\n",
       "      <td>0.0</td>\n",
       "    </tr>\n",
       "    <tr>\n",
       "      <th>9</th>\n",
       "      <td>Starbucks</td>\n",
       "      <td>&lt; 1 year</td>\n",
       "      <td>Building my credit history.</td>\n",
       "      <td>36.50%</td>\n",
       "      <td>Nov-12</td>\n",
       "      <td>Mar-13</td>\n",
       "      <td>0.0</td>\n",
       "      <td>0.0</td>\n",
       "      <td>0.0</td>\n",
       "      <td>0.0</td>\n",
       "    </tr>\n",
       "    <tr>\n",
       "      <th>10</th>\n",
       "      <td>Southwest Rural metro</td>\n",
       "      <td>5 years</td>\n",
       "      <td>High intrest Consolidation</td>\n",
       "      <td>20.60%</td>\n",
       "      <td>Jun-13</td>\n",
       "      <td>Dec-15</td>\n",
       "      <td>0.0</td>\n",
       "      <td>0.0</td>\n",
       "      <td>0.0</td>\n",
       "      <td>0.0</td>\n",
       "    </tr>\n",
       "    <tr>\n",
       "      <th>11</th>\n",
       "      <td>UCLA</td>\n",
       "      <td>10+ years</td>\n",
       "      <td>Consolidation</td>\n",
       "      <td>67.10%</td>\n",
       "      <td>Sep-13</td>\n",
       "      <td>Aug-13</td>\n",
       "      <td>0.0</td>\n",
       "      <td>0.0</td>\n",
       "      <td>0.0</td>\n",
       "      <td>0.0</td>\n",
       "    </tr>\n",
       "    <tr>\n",
       "      <th>12</th>\n",
       "      <td>Va. Dept of Conservation/Recreation</td>\n",
       "      <td>&lt; 1 year</td>\n",
       "      <td>freedom</td>\n",
       "      <td>91.70%</td>\n",
       "      <td>Jul-12</td>\n",
       "      <td>Nov-12</td>\n",
       "      <td>0.0</td>\n",
       "      <td>0.0</td>\n",
       "      <td>0.0</td>\n",
       "      <td>0.0</td>\n",
       "    </tr>\n",
       "    <tr>\n",
       "      <th>13</th>\n",
       "      <td>Target</td>\n",
       "      <td>3 years</td>\n",
       "      <td>citicard fund</td>\n",
       "      <td>43.10%</td>\n",
       "      <td>Jan-15</td>\n",
       "      <td>May-16</td>\n",
       "      <td>0.0</td>\n",
       "      <td>0.0</td>\n",
       "      <td>0.0</td>\n",
       "      <td>0.0</td>\n",
       "    </tr>\n",
       "    <tr>\n",
       "      <th>14</th>\n",
       "      <td>SFMTA</td>\n",
       "      <td>3 years</td>\n",
       "      <td>Other Loan</td>\n",
       "      <td>55.50%</td>\n",
       "      <td>Oct-13</td>\n",
       "      <td>Mar-14</td>\n",
       "      <td>0.0</td>\n",
       "      <td>0.0</td>\n",
       "      <td>0.0</td>\n",
       "      <td>0.0</td>\n",
       "    </tr>\n",
       "    <tr>\n",
       "      <th>15</th>\n",
       "      <td>Internal revenue Service</td>\n",
       "      <td>&lt; 1 year</td>\n",
       "      <td>Debt Consolidation Loan</td>\n",
       "      <td>81.50%</td>\n",
       "      <td>Jan-15</td>\n",
       "      <td>May-16</td>\n",
       "      <td>0.0</td>\n",
       "      <td>0.0</td>\n",
       "      <td>0.0</td>\n",
       "      <td>0.0</td>\n",
       "    </tr>\n",
       "    <tr>\n",
       "      <th>16</th>\n",
       "      <td>Chin's Restaurant</td>\n",
       "      <td>4 years</td>\n",
       "      <td>Home</td>\n",
       "      <td>70.20%</td>\n",
       "      <td>Jan-15</td>\n",
       "      <td>Apr-15</td>\n",
       "      <td>0.0</td>\n",
       "      <td>0.0</td>\n",
       "      <td>0.0</td>\n",
       "      <td>0.0</td>\n",
       "    </tr>\n",
       "    <tr>\n",
       "      <th>17</th>\n",
       "      <td>Duracell</td>\n",
       "      <td>10+ years</td>\n",
       "      <td>Holiday</td>\n",
       "      <td>16%</td>\n",
       "      <td>May-13</td>\n",
       "      <td>May-14</td>\n",
       "      <td>0.0</td>\n",
       "      <td>0.0</td>\n",
       "      <td>0.0</td>\n",
       "      <td>0.0</td>\n",
       "    </tr>\n",
       "    <tr>\n",
       "      <th>18</th>\n",
       "      <td>Connection Inspection</td>\n",
       "      <td>1 year</td>\n",
       "      <td>Medical</td>\n",
       "      <td>37.73%</td>\n",
       "      <td>Feb-15</td>\n",
       "      <td>Jul-15</td>\n",
       "      <td>0.0</td>\n",
       "      <td>0.0</td>\n",
       "      <td>0.0</td>\n",
       "      <td>0.0</td>\n",
       "    </tr>\n",
       "    <tr>\n",
       "      <th>19</th>\n",
       "      <td>Network Interpreting Service</td>\n",
       "      <td>6 years</td>\n",
       "      <td>lowerratemeanseasiertogetoutofdebt!</td>\n",
       "      <td>23.10%</td>\n",
       "      <td>Jul-12</td>\n",
       "      <td>Feb-16</td>\n",
       "      <td>0.0</td>\n",
       "      <td>0.0</td>\n",
       "      <td>0.0</td>\n",
       "      <td>0.0</td>\n",
       "    </tr>\n",
       "  </tbody>\n",
       "</table>\n",
       "</div>"
      ],
      "text/plain": [
       "                              emp_title emp_length  \\\n",
       "0                                   NaN  10+ years   \n",
       "1                                 Ryder   < 1 year   \n",
       "2                                   NaN  10+ years   \n",
       "3                   AIR RESOURCES BOARD  10+ years   \n",
       "4              University Medical Group     1 year   \n",
       "5                  Veolia Transportaton    3 years   \n",
       "6             Southern Star Photography    8 years   \n",
       "7                       MKC Accounting     9 years   \n",
       "8                                   NaN    4 years   \n",
       "9                             Starbucks   < 1 year   \n",
       "10                Southwest Rural metro    5 years   \n",
       "11                                 UCLA  10+ years   \n",
       "12  Va. Dept of Conservation/Recreation   < 1 year   \n",
       "13                               Target    3 years   \n",
       "14                                SFMTA    3 years   \n",
       "15             Internal revenue Service   < 1 year   \n",
       "16                    Chin's Restaurant    4 years   \n",
       "17                             Duracell  10+ years   \n",
       "18                Connection Inspection     1 year   \n",
       "19         Network Interpreting Service    6 years   \n",
       "\n",
       "                                    title revol_util last_pymnt_d  \\\n",
       "0                                Computer     83.70%       Jan-15   \n",
       "1                                    bike      9.40%       Apr-13   \n",
       "2                    real estate business     98.50%       Jun-14   \n",
       "3                                personel        21%       Jan-15   \n",
       "4                                Personal     53.90%       May-16   \n",
       "5   My wedding loan I promise to pay back     28.30%       Jan-15   \n",
       "6                                    Loan     85.60%       May-16   \n",
       "7                         Car Downpayment     87.50%       Jan-15   \n",
       "8    Expand Business & Buy Debt Portfolio     32.60%       Apr-12   \n",
       "9             Building my credit history.     36.50%       Nov-12   \n",
       "10             High intrest Consolidation     20.60%       Jun-13   \n",
       "11                          Consolidation     67.10%       Sep-13   \n",
       "12                                freedom     91.70%       Jul-12   \n",
       "13                          citicard fund     43.10%       Jan-15   \n",
       "14                             Other Loan     55.50%       Oct-13   \n",
       "15                Debt Consolidation Loan     81.50%       Jan-15   \n",
       "16                                   Home     70.20%       Jan-15   \n",
       "17                                Holiday        16%       May-13   \n",
       "18                                Medical     37.73%       Feb-15   \n",
       "19    lowerratemeanseasiertogetoutofdebt!     23.10%       Jul-12   \n",
       "\n",
       "   last_credit_pull_d  collections_12_mths_ex_med  chargeoff_within_12_mths  \\\n",
       "0              May-16                         0.0                       0.0   \n",
       "1              Sep-13                         0.0                       0.0   \n",
       "2              May-16                         0.0                       0.0   \n",
       "3              Apr-16                         0.0                       0.0   \n",
       "4              May-16                         0.0                       0.0   \n",
       "5              Jan-16                         0.0                       0.0   \n",
       "6              May-16                         0.0                       0.0   \n",
       "7              Dec-14                         0.0                       0.0   \n",
       "8              Aug-12                         0.0                       0.0   \n",
       "9              Mar-13                         0.0                       0.0   \n",
       "10             Dec-15                         0.0                       0.0   \n",
       "11             Aug-13                         0.0                       0.0   \n",
       "12             Nov-12                         0.0                       0.0   \n",
       "13             May-16                         0.0                       0.0   \n",
       "14             Mar-14                         0.0                       0.0   \n",
       "15             May-16                         0.0                       0.0   \n",
       "16             Apr-15                         0.0                       0.0   \n",
       "17             May-14                         0.0                       0.0   \n",
       "18             Jul-15                         0.0                       0.0   \n",
       "19             Feb-16                         0.0                       0.0   \n",
       "\n",
       "    pub_rec_bankruptcies  tax_liens  \n",
       "0                    0.0        0.0  \n",
       "1                    0.0        0.0  \n",
       "2                    0.0        0.0  \n",
       "3                    0.0        0.0  \n",
       "4                    0.0        0.0  \n",
       "5                    0.0        0.0  \n",
       "6                    0.0        0.0  \n",
       "7                    0.0        0.0  \n",
       "8                    0.0        0.0  \n",
       "9                    0.0        0.0  \n",
       "10                   0.0        0.0  \n",
       "11                   0.0        0.0  \n",
       "12                   0.0        0.0  \n",
       "13                   0.0        0.0  \n",
       "14                   0.0        0.0  \n",
       "15                   0.0        0.0  \n",
       "16                   0.0        0.0  \n",
       "17                   0.0        0.0  \n",
       "18                   0.0        0.0  \n",
       "19                   0.0        0.0  "
      ]
     },
     "execution_count": 10,
     "metadata": {},
     "output_type": "execute_result"
    }
   ],
   "source": [
    "missing_cols=round(100*((loan.isnull().sum())/(len(loan.index))),2)\n",
    "loan[list(missing_cols[missing_cols > 0].index)].head(20)"
   ]
  },
  {
   "cell_type": "markdown",
   "metadata": {},
   "source": [
    "In above result we can see that collections_12_mths_ex_med, chargeoff_within_12_mths, pub_rec_bankruptcies and tax_liens mostly contains values as '0.'. Let's see the unique values they have to understand their spread and contribution in our analysis. "
   ]
  },
  {
   "cell_type": "code",
   "execution_count": 11,
   "metadata": {},
   "outputs": [
    {
     "name": "stdout",
     "output_type": "stream",
     "text": [
      "collections_12_mths_ex_med info\n",
      "[ 0. nan]\n",
      "2\n",
      "\n",
      "chargeoff_within_12_mths info\n",
      "[ 0. nan]\n",
      "2\n",
      "\n",
      "pub_rec_bankruptcies info\n",
      "[ 0.  1.  2. nan]\n",
      "4\n",
      "\n",
      "tax_liens info\n",
      "[ 0. nan]\n",
      "2\n"
     ]
    }
   ],
   "source": [
    "print('collections_12_mths_ex_med info')\n",
    "print(loan['collections_12_mths_ex_med'].unique())\n",
    "print(len(loan['collections_12_mths_ex_med'].unique()))\n",
    "print()\n",
    "\n",
    "print('chargeoff_within_12_mths info')\n",
    "print(loan['chargeoff_within_12_mths'].unique())\n",
    "print(len(loan['chargeoff_within_12_mths'].unique()))\n",
    "print()\n",
    "\n",
    "print('pub_rec_bankruptcies info')\n",
    "print(loan['pub_rec_bankruptcies'].unique())\n",
    "print(len(loan['pub_rec_bankruptcies'].unique()))\n",
    "print()\n",
    "\n",
    "print('tax_liens info')\n",
    "print(loan['tax_liens'].unique())\n",
    "print(len(loan['tax_liens'].unique()))"
   ]
  },
  {
   "cell_type": "markdown",
   "metadata": {},
   "source": [
    "We can see collections_12_mths_ex_med, chargeoff_within_12_mths and tax_liens does not contain much information to contribute and it will be better to narrow down the data set by dropping them.pub_rec_bankruptcies can be relevant to our analysis so not dropping it."
   ]
  },
  {
   "cell_type": "code",
   "execution_count": 12,
   "metadata": {},
   "outputs": [
    {
     "data": {
      "text/plain": [
       "(39717, 50)"
      ]
     },
     "execution_count": 12,
     "metadata": {},
     "output_type": "execute_result"
    }
   ],
   "source": [
    "loan.drop(columns=['collections_12_mths_ex_med','chargeoff_within_12_mths','tax_liens'], inplace = True)\n",
    "loan.shape"
   ]
  },
  {
   "cell_type": "markdown",
   "metadata": {},
   "source": [
    "Now we are left with 6 columns with missing values, notice there are only small percentage of missing values present in these columns. Let's move ahead and see how can we deal with missing values in these columns."
   ]
  },
  {
   "cell_type": "code",
   "execution_count": 13,
   "metadata": {},
   "outputs": [
    {
     "data": {
      "text/plain": [
       "emp_title               6.19\n",
       "emp_length              2.71\n",
       "title                   0.03\n",
       "revol_util              0.13\n",
       "last_pymnt_d            0.18\n",
       "last_credit_pull_d      0.01\n",
       "pub_rec_bankruptcies    1.75\n",
       "dtype: float64"
      ]
     },
     "execution_count": 13,
     "metadata": {},
     "output_type": "execute_result"
    }
   ],
   "source": [
    "missing_cols=round(100*((loan.isnull().sum())/(len(loan.index))),2)\n",
    "missing_cols[missing_cols > 0]"
   ]
  },
  {
   "cell_type": "markdown",
   "metadata": {},
   "source": [
    "Below we can see that only pub_rec_bankruptcies is of type float and rest are objects and contain information in string format."
   ]
  },
  {
   "cell_type": "code",
   "execution_count": 14,
   "metadata": {},
   "outputs": [
    {
     "name": "stdout",
     "output_type": "stream",
     "text": [
      "<class 'pandas.core.frame.DataFrame'>\n",
      "RangeIndex: 39717 entries, 0 to 39716\n",
      "Data columns (total 7 columns):\n",
      "emp_title               37258 non-null object\n",
      "emp_length              38642 non-null object\n",
      "title                   39706 non-null object\n",
      "revol_util              39667 non-null object\n",
      "last_pymnt_d            39646 non-null object\n",
      "last_credit_pull_d      39715 non-null object\n",
      "pub_rec_bankruptcies    39020 non-null float64\n",
      "dtypes: float64(1), object(6)\n",
      "memory usage: 2.1+ MB\n"
     ]
    }
   ],
   "source": [
    "loan[list(missing_cols[missing_cols > 0].index)].info()"
   ]
  },
  {
   "cell_type": "code",
   "execution_count": 15,
   "metadata": {},
   "outputs": [
    {
     "data": {
      "text/html": [
       "<div>\n",
       "<style scoped>\n",
       "    .dataframe tbody tr th:only-of-type {\n",
       "        vertical-align: middle;\n",
       "    }\n",
       "\n",
       "    .dataframe tbody tr th {\n",
       "        vertical-align: top;\n",
       "    }\n",
       "\n",
       "    .dataframe thead th {\n",
       "        text-align: right;\n",
       "    }\n",
       "</style>\n",
       "<table border=\"1\" class=\"dataframe\">\n",
       "  <thead>\n",
       "    <tr style=\"text-align: right;\">\n",
       "      <th></th>\n",
       "      <th>emp_title</th>\n",
       "      <th>emp_length</th>\n",
       "      <th>title</th>\n",
       "      <th>revol_util</th>\n",
       "      <th>last_pymnt_d</th>\n",
       "      <th>last_credit_pull_d</th>\n",
       "      <th>pub_rec_bankruptcies</th>\n",
       "    </tr>\n",
       "  </thead>\n",
       "  <tbody>\n",
       "    <tr>\n",
       "      <th>0</th>\n",
       "      <td>NaN</td>\n",
       "      <td>10+ years</td>\n",
       "      <td>Computer</td>\n",
       "      <td>83.70%</td>\n",
       "      <td>Jan-15</td>\n",
       "      <td>May-16</td>\n",
       "      <td>0.0</td>\n",
       "    </tr>\n",
       "    <tr>\n",
       "      <th>1</th>\n",
       "      <td>Ryder</td>\n",
       "      <td>&lt; 1 year</td>\n",
       "      <td>bike</td>\n",
       "      <td>9.40%</td>\n",
       "      <td>Apr-13</td>\n",
       "      <td>Sep-13</td>\n",
       "      <td>0.0</td>\n",
       "    </tr>\n",
       "    <tr>\n",
       "      <th>2</th>\n",
       "      <td>NaN</td>\n",
       "      <td>10+ years</td>\n",
       "      <td>real estate business</td>\n",
       "      <td>98.50%</td>\n",
       "      <td>Jun-14</td>\n",
       "      <td>May-16</td>\n",
       "      <td>0.0</td>\n",
       "    </tr>\n",
       "    <tr>\n",
       "      <th>3</th>\n",
       "      <td>AIR RESOURCES BOARD</td>\n",
       "      <td>10+ years</td>\n",
       "      <td>personel</td>\n",
       "      <td>21%</td>\n",
       "      <td>Jan-15</td>\n",
       "      <td>Apr-16</td>\n",
       "      <td>0.0</td>\n",
       "    </tr>\n",
       "    <tr>\n",
       "      <th>4</th>\n",
       "      <td>University Medical Group</td>\n",
       "      <td>1 year</td>\n",
       "      <td>Personal</td>\n",
       "      <td>53.90%</td>\n",
       "      <td>May-16</td>\n",
       "      <td>May-16</td>\n",
       "      <td>0.0</td>\n",
       "    </tr>\n",
       "  </tbody>\n",
       "</table>\n",
       "</div>"
      ],
      "text/plain": [
       "                  emp_title emp_length                 title revol_util  \\\n",
       "0                       NaN  10+ years              Computer     83.70%   \n",
       "1                     Ryder   < 1 year                  bike      9.40%   \n",
       "2                       NaN  10+ years  real estate business     98.50%   \n",
       "3       AIR RESOURCES BOARD  10+ years              personel        21%   \n",
       "4  University Medical Group     1 year              Personal     53.90%   \n",
       "\n",
       "  last_pymnt_d last_credit_pull_d  pub_rec_bankruptcies  \n",
       "0       Jan-15             May-16                   0.0  \n",
       "1       Apr-13             Sep-13                   0.0  \n",
       "2       Jun-14             May-16                   0.0  \n",
       "3       Jan-15             Apr-16                   0.0  \n",
       "4       May-16             May-16                   0.0  "
      ]
     },
     "execution_count": 15,
     "metadata": {},
     "output_type": "execute_result"
    }
   ],
   "source": [
    "loan[list(missing_cols[missing_cols > 0].index)].head()"
   ]
  },
  {
   "cell_type": "markdown",
   "metadata": {},
   "source": [
    "We can either impute values or either remove missing values, it does not make sense to impute values in other columns as they are non numeric so we will go for removing null rows and also for pub_rec_bankruptcies as imputing values may lead to bias and we will try to avoid it. Also percentage of missing value is less so won't affect our dataset much."
   ]
  },
  {
   "cell_type": "code",
   "execution_count": 16,
   "metadata": {},
   "outputs": [
    {
     "data": {
      "text/plain": [
       "(36433, 50)"
      ]
     },
     "execution_count": 16,
     "metadata": {},
     "output_type": "execute_result"
    }
   ],
   "source": [
    "loan=loan[~loan.pub_rec_bankruptcies.isnull()]\n",
    "loan=loan[~loan.emp_title.isnull()]\n",
    "loan=loan[~loan.emp_length.isnull()]\n",
    "loan=loan[~loan.title.isnull()]\n",
    "loan=loan[~loan.revol_util.isnull()]\n",
    "loan=loan[~loan.last_pymnt_d.isnull()]\n",
    "loan=loan[~loan.last_credit_pull_d.isnull()]\n",
    "loan.shape"
   ]
  },
  {
   "cell_type": "markdown",
   "metadata": {},
   "source": [
    "Now, below we can see our data set is cleaned and it does not have missing values"
   ]
  },
  {
   "cell_type": "code",
   "execution_count": 17,
   "metadata": {},
   "outputs": [
    {
     "data": {
      "text/plain": [
       "Series([], dtype: float64)"
      ]
     },
     "execution_count": 17,
     "metadata": {},
     "output_type": "execute_result"
    }
   ],
   "source": [
    "missing_cols=round(100*((loan.isnull().sum())/(len(loan.index))),2)\n",
    "missing_cols[missing_cols > 0]"
   ]
  },
  {
   "cell_type": "markdown",
   "metadata": {},
   "source": [
    "We are left with 50 columns and we can understand the purpose of each column and try to find out whether they will be usefull in our analysis or not. Also we should check the nature of values they contain so to get a idea of their usefullness."
   ]
  },
  {
   "cell_type": "code",
   "execution_count": 18,
   "metadata": {},
   "outputs": [
    {
     "data": {
      "text/plain": [
       "acc_now_delinq                 1\n",
       "application_type               1\n",
       "policy_code                    1\n",
       "initial_list_status            1\n",
       "delinq_amnt                    1\n",
       "pymnt_plan                     1\n",
       "term                           2\n",
       "pub_rec_bankruptcies           3\n",
       "loan_status                    3\n",
       "verification_status            3\n",
       "home_ownership                 4\n",
       "pub_rec                        5\n",
       "grade                          7\n",
       "inq_last_6mths                 9\n",
       "delinq_2yrs                   11\n",
       "emp_length                    11\n",
       "purpose                       14\n",
       "sub_grade                     35\n",
       "open_acc                      38\n",
       "addr_state                    49\n",
       "issue_d                       52\n",
       "total_acc                     79\n",
       "last_credit_pull_d            96\n",
       "last_pymnt_d                  97\n",
       "int_rate                     334\n",
       "earliest_cr_line             510\n",
       "zip_code                     806\n",
       "loan_amnt                    863\n",
       "funded_amnt                 1024\n",
       "out_prncp                   1064\n",
       "out_prncp_inv               1065\n",
       "revol_util                  1082\n",
       "total_rec_late_fee          1194\n",
       "collection_recovery_fee     2386\n",
       "dti                         2857\n",
       "recoveries                  3585\n",
       "annual_inc                  4924\n",
       "total_rec_prncp             7254\n",
       "funded_amnt_inv             7474\n",
       "installment                14367\n",
       "title                      17954\n",
       "revol_bal                  20790\n",
       "emp_title                  28207\n",
       "last_pymnt_amnt            32467\n",
       "total_rec_int              32523\n",
       "total_pymnt_inv            34524\n",
       "total_pymnt                34802\n",
       "url                        36433\n",
       "member_id                  36433\n",
       "id                         36433\n",
       "dtype: int64"
      ]
     },
     "execution_count": 18,
     "metadata": {},
     "output_type": "execute_result"
    }
   ],
   "source": [
    "loan.nunique().sort_values()"
   ]
  },
  {
   "cell_type": "markdown",
   "metadata": {},
   "source": [
    "-We can see that there are some columns which has only single values, clearly these columns wont contribute in our analysis and can be dropped for cleare dataset. \n",
    "* acc_now_delinq                 \n",
    "* application_type\n",
    "* policy_code\n",
    "* initial_list_status\n",
    "* delinq_amnt\n",
    "* pymnt_plan\n",
    "\n",
    "-Also, by looking at the data we can see that some columns contain irrelevant information as per our analysis.  \n",
    "These columns are  \n",
    "* id (it's assigned for loan listing and we have one more column member_id which we can use for id column)\n",
    "* url (we dont need urls for our analysis)"
   ]
  },
  {
   "cell_type": "code",
   "execution_count": 19,
   "metadata": {},
   "outputs": [],
   "source": [
    "cols_to_drop=['acc_now_delinq', 'application_type', 'policy_code', 'initial_list_status', 'delinq_amnt', \n",
    "              'pymnt_plan', 'id', 'url']\n",
    "loan.drop(columns=cols_to_drop, inplace = True)"
   ]
  },
  {
   "cell_type": "code",
   "execution_count": 20,
   "metadata": {},
   "outputs": [
    {
     "data": {
      "text/html": [
       "<div>\n",
       "<style scoped>\n",
       "    .dataframe tbody tr th:only-of-type {\n",
       "        vertical-align: middle;\n",
       "    }\n",
       "\n",
       "    .dataframe tbody tr th {\n",
       "        vertical-align: top;\n",
       "    }\n",
       "\n",
       "    .dataframe thead th {\n",
       "        text-align: right;\n",
       "    }\n",
       "</style>\n",
       "<table border=\"1\" class=\"dataframe\">\n",
       "  <thead>\n",
       "    <tr style=\"text-align: right;\">\n",
       "      <th></th>\n",
       "      <th>member_id</th>\n",
       "      <th>loan_amnt</th>\n",
       "      <th>funded_amnt</th>\n",
       "      <th>funded_amnt_inv</th>\n",
       "      <th>term</th>\n",
       "      <th>int_rate</th>\n",
       "      <th>installment</th>\n",
       "      <th>grade</th>\n",
       "      <th>sub_grade</th>\n",
       "      <th>emp_title</th>\n",
       "      <th>...</th>\n",
       "      <th>total_pymnt_inv</th>\n",
       "      <th>total_rec_prncp</th>\n",
       "      <th>total_rec_int</th>\n",
       "      <th>total_rec_late_fee</th>\n",
       "      <th>recoveries</th>\n",
       "      <th>collection_recovery_fee</th>\n",
       "      <th>last_pymnt_d</th>\n",
       "      <th>last_pymnt_amnt</th>\n",
       "      <th>last_credit_pull_d</th>\n",
       "      <th>pub_rec_bankruptcies</th>\n",
       "    </tr>\n",
       "  </thead>\n",
       "  <tbody>\n",
       "    <tr>\n",
       "      <th>1</th>\n",
       "      <td>1314167</td>\n",
       "      <td>2500</td>\n",
       "      <td>2500</td>\n",
       "      <td>2500.0</td>\n",
       "      <td>60 months</td>\n",
       "      <td>15.27%</td>\n",
       "      <td>59.83</td>\n",
       "      <td>C</td>\n",
       "      <td>C4</td>\n",
       "      <td>Ryder</td>\n",
       "      <td>...</td>\n",
       "      <td>1008.71</td>\n",
       "      <td>456.46</td>\n",
       "      <td>435.17</td>\n",
       "      <td>0.00</td>\n",
       "      <td>117.08</td>\n",
       "      <td>1.11</td>\n",
       "      <td>Apr-13</td>\n",
       "      <td>119.66</td>\n",
       "      <td>Sep-13</td>\n",
       "      <td>0.0</td>\n",
       "    </tr>\n",
       "    <tr>\n",
       "      <th>3</th>\n",
       "      <td>1277178</td>\n",
       "      <td>10000</td>\n",
       "      <td>10000</td>\n",
       "      <td>10000.0</td>\n",
       "      <td>36 months</td>\n",
       "      <td>13.49%</td>\n",
       "      <td>339.31</td>\n",
       "      <td>C</td>\n",
       "      <td>C1</td>\n",
       "      <td>AIR RESOURCES BOARD</td>\n",
       "      <td>...</td>\n",
       "      <td>12231.89</td>\n",
       "      <td>10000.00</td>\n",
       "      <td>2214.92</td>\n",
       "      <td>16.97</td>\n",
       "      <td>0.00</td>\n",
       "      <td>0.00</td>\n",
       "      <td>Jan-15</td>\n",
       "      <td>357.48</td>\n",
       "      <td>Apr-16</td>\n",
       "      <td>0.0</td>\n",
       "    </tr>\n",
       "    <tr>\n",
       "      <th>4</th>\n",
       "      <td>1311748</td>\n",
       "      <td>3000</td>\n",
       "      <td>3000</td>\n",
       "      <td>3000.0</td>\n",
       "      <td>60 months</td>\n",
       "      <td>12.69%</td>\n",
       "      <td>67.79</td>\n",
       "      <td>B</td>\n",
       "      <td>B5</td>\n",
       "      <td>University Medical Group</td>\n",
       "      <td>...</td>\n",
       "      <td>3513.33</td>\n",
       "      <td>2475.94</td>\n",
       "      <td>1037.39</td>\n",
       "      <td>0.00</td>\n",
       "      <td>0.00</td>\n",
       "      <td>0.00</td>\n",
       "      <td>May-16</td>\n",
       "      <td>67.79</td>\n",
       "      <td>May-16</td>\n",
       "      <td>0.0</td>\n",
       "    </tr>\n",
       "    <tr>\n",
       "      <th>5</th>\n",
       "      <td>1311441</td>\n",
       "      <td>5000</td>\n",
       "      <td>5000</td>\n",
       "      <td>5000.0</td>\n",
       "      <td>36 months</td>\n",
       "      <td>7.90%</td>\n",
       "      <td>156.46</td>\n",
       "      <td>A</td>\n",
       "      <td>A4</td>\n",
       "      <td>Veolia Transportaton</td>\n",
       "      <td>...</td>\n",
       "      <td>5632.21</td>\n",
       "      <td>5000.00</td>\n",
       "      <td>632.21</td>\n",
       "      <td>0.00</td>\n",
       "      <td>0.00</td>\n",
       "      <td>0.00</td>\n",
       "      <td>Jan-15</td>\n",
       "      <td>161.03</td>\n",
       "      <td>Jan-16</td>\n",
       "      <td>0.0</td>\n",
       "    </tr>\n",
       "    <tr>\n",
       "      <th>6</th>\n",
       "      <td>1304742</td>\n",
       "      <td>7000</td>\n",
       "      <td>7000</td>\n",
       "      <td>7000.0</td>\n",
       "      <td>60 months</td>\n",
       "      <td>15.96%</td>\n",
       "      <td>170.08</td>\n",
       "      <td>C</td>\n",
       "      <td>C5</td>\n",
       "      <td>Southern Star Photography</td>\n",
       "      <td>...</td>\n",
       "      <td>10110.84</td>\n",
       "      <td>6985.61</td>\n",
       "      <td>3125.23</td>\n",
       "      <td>0.00</td>\n",
       "      <td>0.00</td>\n",
       "      <td>0.00</td>\n",
       "      <td>May-16</td>\n",
       "      <td>1313.76</td>\n",
       "      <td>May-16</td>\n",
       "      <td>0.0</td>\n",
       "    </tr>\n",
       "  </tbody>\n",
       "</table>\n",
       "<p>5 rows × 42 columns</p>\n",
       "</div>"
      ],
      "text/plain": [
       "   member_id  loan_amnt  funded_amnt  funded_amnt_inv        term int_rate  \\\n",
       "1    1314167       2500         2500           2500.0   60 months   15.27%   \n",
       "3    1277178      10000        10000          10000.0   36 months   13.49%   \n",
       "4    1311748       3000         3000           3000.0   60 months   12.69%   \n",
       "5    1311441       5000         5000           5000.0   36 months    7.90%   \n",
       "6    1304742       7000         7000           7000.0   60 months   15.96%   \n",
       "\n",
       "   installment grade sub_grade                  emp_title  ...  \\\n",
       "1        59.83     C        C4                      Ryder  ...   \n",
       "3       339.31     C        C1        AIR RESOURCES BOARD  ...   \n",
       "4        67.79     B        B5   University Medical Group  ...   \n",
       "5       156.46     A        A4       Veolia Transportaton  ...   \n",
       "6       170.08     C        C5  Southern Star Photography  ...   \n",
       "\n",
       "  total_pymnt_inv total_rec_prncp  total_rec_int total_rec_late_fee  \\\n",
       "1         1008.71          456.46         435.17               0.00   \n",
       "3        12231.89        10000.00        2214.92              16.97   \n",
       "4         3513.33         2475.94        1037.39               0.00   \n",
       "5         5632.21         5000.00         632.21               0.00   \n",
       "6        10110.84         6985.61        3125.23               0.00   \n",
       "\n",
       "  recoveries collection_recovery_fee last_pymnt_d last_pymnt_amnt  \\\n",
       "1     117.08                    1.11       Apr-13          119.66   \n",
       "3       0.00                    0.00       Jan-15          357.48   \n",
       "4       0.00                    0.00       May-16           67.79   \n",
       "5       0.00                    0.00       Jan-15          161.03   \n",
       "6       0.00                    0.00       May-16         1313.76   \n",
       "\n",
       "  last_credit_pull_d pub_rec_bankruptcies  \n",
       "1             Sep-13                  0.0  \n",
       "3             Apr-16                  0.0  \n",
       "4             May-16                  0.0  \n",
       "5             Jan-16                  0.0  \n",
       "6             May-16                  0.0  \n",
       "\n",
       "[5 rows x 42 columns]"
      ]
     },
     "execution_count": 20,
     "metadata": {},
     "output_type": "execute_result"
    }
   ],
   "source": [
    "loan.head()"
   ]
  },
  {
   "cell_type": "markdown",
   "metadata": {},
   "source": [
    "Also one interesting observation here is that loan amount funded_amnt and funded_amt_invested have similar values. Information is redundant here. loan_amount is relevant to our analysis and funded_amnt_inv and funded_amnt can be dropped."
   ]
  },
  {
   "cell_type": "code",
   "execution_count": 21,
   "metadata": {},
   "outputs": [],
   "source": [
    "loan.drop(columns = ['funded_amnt', 'funded_amnt_inv'], inplace = True)"
   ]
  },
  {
   "cell_type": "markdown",
   "metadata": {},
   "source": [
    "-Now lets move to convert the columns in to their specific for analysis.  \n",
    "* last_pymnt_d, last_credit_pull_d, issue_d, earliest_cr_line are of object type which needs to be converted in to date type."
   ]
  },
  {
   "cell_type": "code",
   "execution_count": 22,
   "metadata": {},
   "outputs": [],
   "source": [
    "loan.last_pymnt_d = pd.to_datetime(loan.last_pymnt_d, format='%b-%y')\n",
    "loan.last_credit_pull_d = pd.to_datetime(loan.last_credit_pull_d, format='%b-%y')\n",
    "loan.issue_d = pd.to_datetime(loan.issue_d, format='%b-%y')\n",
    "loan.earliest_cr_line = pd.to_datetime(loan.earliest_cr_line, format='%b-%y')"
   ]
  },
  {
   "cell_type": "markdown",
   "metadata": {},
   "source": [
    "-There are some columns which can be converted to numeric columns for analysis.\n",
    "* int-rate, term and revol-util are some probable columns as per our observation"
   ]
  },
  {
   "cell_type": "code",
   "execution_count": 23,
   "metadata": {},
   "outputs": [
    {
     "name": "stdout",
     "output_type": "stream",
     "text": [
      "<class 'pandas.core.frame.DataFrame'>\n",
      "Int64Index: 36433 entries, 1 to 39680\n",
      "Data columns (total 3 columns):\n",
      "int_rate      36433 non-null object\n",
      "term          36433 non-null object\n",
      "revol_util    36433 non-null object\n",
      "dtypes: object(3)\n",
      "memory usage: 1.1+ MB\n",
      "None\n"
     ]
    },
    {
     "data": {
      "text/html": [
       "<div>\n",
       "<style scoped>\n",
       "    .dataframe tbody tr th:only-of-type {\n",
       "        vertical-align: middle;\n",
       "    }\n",
       "\n",
       "    .dataframe tbody tr th {\n",
       "        vertical-align: top;\n",
       "    }\n",
       "\n",
       "    .dataframe thead th {\n",
       "        text-align: right;\n",
       "    }\n",
       "</style>\n",
       "<table border=\"1\" class=\"dataframe\">\n",
       "  <thead>\n",
       "    <tr style=\"text-align: right;\">\n",
       "      <th></th>\n",
       "      <th>int_rate</th>\n",
       "      <th>term</th>\n",
       "      <th>revol_util</th>\n",
       "    </tr>\n",
       "  </thead>\n",
       "  <tbody>\n",
       "    <tr>\n",
       "      <th>1</th>\n",
       "      <td>15.27%</td>\n",
       "      <td>60 months</td>\n",
       "      <td>9.40%</td>\n",
       "    </tr>\n",
       "    <tr>\n",
       "      <th>3</th>\n",
       "      <td>13.49%</td>\n",
       "      <td>36 months</td>\n",
       "      <td>21%</td>\n",
       "    </tr>\n",
       "    <tr>\n",
       "      <th>4</th>\n",
       "      <td>12.69%</td>\n",
       "      <td>60 months</td>\n",
       "      <td>53.90%</td>\n",
       "    </tr>\n",
       "    <tr>\n",
       "      <th>5</th>\n",
       "      <td>7.90%</td>\n",
       "      <td>36 months</td>\n",
       "      <td>28.30%</td>\n",
       "    </tr>\n",
       "    <tr>\n",
       "      <th>6</th>\n",
       "      <td>15.96%</td>\n",
       "      <td>60 months</td>\n",
       "      <td>85.60%</td>\n",
       "    </tr>\n",
       "    <tr>\n",
       "      <th>7</th>\n",
       "      <td>18.64%</td>\n",
       "      <td>36 months</td>\n",
       "      <td>87.50%</td>\n",
       "    </tr>\n",
       "    <tr>\n",
       "      <th>9</th>\n",
       "      <td>12.69%</td>\n",
       "      <td>60 months</td>\n",
       "      <td>36.50%</td>\n",
       "    </tr>\n",
       "    <tr>\n",
       "      <th>10</th>\n",
       "      <td>14.65%</td>\n",
       "      <td>60 months</td>\n",
       "      <td>20.60%</td>\n",
       "    </tr>\n",
       "    <tr>\n",
       "      <th>11</th>\n",
       "      <td>12.69%</td>\n",
       "      <td>36 months</td>\n",
       "      <td>67.10%</td>\n",
       "    </tr>\n",
       "    <tr>\n",
       "      <th>12</th>\n",
       "      <td>13.49%</td>\n",
       "      <td>36 months</td>\n",
       "      <td>91.70%</td>\n",
       "    </tr>\n",
       "  </tbody>\n",
       "</table>\n",
       "</div>"
      ],
      "text/plain": [
       "   int_rate        term revol_util\n",
       "1    15.27%   60 months      9.40%\n",
       "3    13.49%   36 months        21%\n",
       "4    12.69%   60 months     53.90%\n",
       "5     7.90%   36 months     28.30%\n",
       "6    15.96%   60 months     85.60%\n",
       "7    18.64%   36 months     87.50%\n",
       "9    12.69%   60 months     36.50%\n",
       "10   14.65%   60 months     20.60%\n",
       "11   12.69%   36 months     67.10%\n",
       "12   13.49%   36 months     91.70%"
      ]
     },
     "execution_count": 23,
     "metadata": {},
     "output_type": "execute_result"
    }
   ],
   "source": [
    "print(loan[['int_rate', 'term', 'revol_util']].info())\n",
    "loan[['int_rate', 'term', 'revol_util']].head(10)"
   ]
  },
  {
   "cell_type": "markdown",
   "metadata": {},
   "source": [
    "'int_rate', 'term' ,'emp_length'and 'revol_util' are object type which can be converted in to numeric type, let's convert them."
   ]
  },
  {
   "cell_type": "code",
   "execution_count": 24,
   "metadata": {},
   "outputs": [
    {
     "data": {
      "text/plain": [
       " 36 months    26377\n",
       " 60 months    10056\n",
       "Name: term, dtype: int64"
      ]
     },
     "execution_count": 24,
     "metadata": {},
     "output_type": "execute_result"
    }
   ],
   "source": [
    "#making sure there are only 36 and 60 months as values in term column\n",
    "loan.term.value_counts()"
   ]
  },
  {
   "cell_type": "code",
   "execution_count": 25,
   "metadata": {},
   "outputs": [],
   "source": [
    "#checking the nature of emp_length, this column can also be converted in to numeric by truncating year and \n",
    "#considering < 1 year as 0 and 10+ year as 10\n",
    "loan.emp_length.value_counts()\n",
    "\n",
    "# using map function on dataframe column is a good way to map emp_length values,let's create a dictionary for this purpose\n",
    "emp_length_dict = {\n",
    "    '< 1 year' : 0,\n",
    "    '1 year' : 1,\n",
    "    '2 years' : 2,\n",
    "    '3 years' : 3,\n",
    "    '4 years' : 4,\n",
    "    '5 years' : 5,\n",
    "    '6 years' : 6,\n",
    "    '7 years' : 7,\n",
    "    '8 years' : 8,\n",
    "    '9 years' : 9,\n",
    "    '10+ years' : 10\n",
    "}"
   ]
  },
  {
   "cell_type": "code",
   "execution_count": 26,
   "metadata": {},
   "outputs": [],
   "source": [
    "loan.int_rate=loan['int_rate'].str.replace('%','').astype('float')\n",
    "loan.term = loan['term'].str.replace(' months','').astype('float')\n",
    "loan.revol_util = loan['revol_util'].str.replace('%', '').astype('float')\n"
   ]
  },
  {
   "cell_type": "code",
   "execution_count": 27,
   "metadata": {},
   "outputs": [],
   "source": [
    "loan.emp_length = loan['emp_length'].map(emp_length_dict).astype('int')"
   ]
  },
  {
   "cell_type": "code",
   "execution_count": 28,
   "metadata": {},
   "outputs": [
    {
     "name": "stdout",
     "output_type": "stream",
     "text": [
      "<class 'pandas.core.frame.DataFrame'>\n",
      "Int64Index: 36433 entries, 1 to 39680\n",
      "Data columns (total 4 columns):\n",
      "int_rate      36433 non-null float64\n",
      "term          36433 non-null float64\n",
      "revol_util    36433 non-null float64\n",
      "emp_length    36433 non-null int32\n",
      "dtypes: float64(3), int32(1)\n",
      "memory usage: 1.3 MB\n",
      "None\n"
     ]
    },
    {
     "data": {
      "text/html": [
       "<div>\n",
       "<style scoped>\n",
       "    .dataframe tbody tr th:only-of-type {\n",
       "        vertical-align: middle;\n",
       "    }\n",
       "\n",
       "    .dataframe tbody tr th {\n",
       "        vertical-align: top;\n",
       "    }\n",
       "\n",
       "    .dataframe thead th {\n",
       "        text-align: right;\n",
       "    }\n",
       "</style>\n",
       "<table border=\"1\" class=\"dataframe\">\n",
       "  <thead>\n",
       "    <tr style=\"text-align: right;\">\n",
       "      <th></th>\n",
       "      <th>int_rate</th>\n",
       "      <th>term</th>\n",
       "      <th>revol_util</th>\n",
       "      <th>emp_length</th>\n",
       "    </tr>\n",
       "  </thead>\n",
       "  <tbody>\n",
       "    <tr>\n",
       "      <th>1</th>\n",
       "      <td>15.27</td>\n",
       "      <td>60.0</td>\n",
       "      <td>9.4</td>\n",
       "      <td>0</td>\n",
       "    </tr>\n",
       "    <tr>\n",
       "      <th>3</th>\n",
       "      <td>13.49</td>\n",
       "      <td>36.0</td>\n",
       "      <td>21.0</td>\n",
       "      <td>10</td>\n",
       "    </tr>\n",
       "    <tr>\n",
       "      <th>4</th>\n",
       "      <td>12.69</td>\n",
       "      <td>60.0</td>\n",
       "      <td>53.9</td>\n",
       "      <td>1</td>\n",
       "    </tr>\n",
       "    <tr>\n",
       "      <th>5</th>\n",
       "      <td>7.90</td>\n",
       "      <td>36.0</td>\n",
       "      <td>28.3</td>\n",
       "      <td>3</td>\n",
       "    </tr>\n",
       "    <tr>\n",
       "      <th>6</th>\n",
       "      <td>15.96</td>\n",
       "      <td>60.0</td>\n",
       "      <td>85.6</td>\n",
       "      <td>8</td>\n",
       "    </tr>\n",
       "    <tr>\n",
       "      <th>7</th>\n",
       "      <td>18.64</td>\n",
       "      <td>36.0</td>\n",
       "      <td>87.5</td>\n",
       "      <td>9</td>\n",
       "    </tr>\n",
       "    <tr>\n",
       "      <th>9</th>\n",
       "      <td>12.69</td>\n",
       "      <td>60.0</td>\n",
       "      <td>36.5</td>\n",
       "      <td>0</td>\n",
       "    </tr>\n",
       "    <tr>\n",
       "      <th>10</th>\n",
       "      <td>14.65</td>\n",
       "      <td>60.0</td>\n",
       "      <td>20.6</td>\n",
       "      <td>5</td>\n",
       "    </tr>\n",
       "    <tr>\n",
       "      <th>11</th>\n",
       "      <td>12.69</td>\n",
       "      <td>36.0</td>\n",
       "      <td>67.1</td>\n",
       "      <td>10</td>\n",
       "    </tr>\n",
       "    <tr>\n",
       "      <th>12</th>\n",
       "      <td>13.49</td>\n",
       "      <td>36.0</td>\n",
       "      <td>91.7</td>\n",
       "      <td>0</td>\n",
       "    </tr>\n",
       "  </tbody>\n",
       "</table>\n",
       "</div>"
      ],
      "text/plain": [
       "    int_rate  term  revol_util  emp_length\n",
       "1      15.27  60.0         9.4           0\n",
       "3      13.49  36.0        21.0          10\n",
       "4      12.69  60.0        53.9           1\n",
       "5       7.90  36.0        28.3           3\n",
       "6      15.96  60.0        85.6           8\n",
       "7      18.64  36.0        87.5           9\n",
       "9      12.69  60.0        36.5           0\n",
       "10     14.65  60.0        20.6           5\n",
       "11     12.69  36.0        67.1          10\n",
       "12     13.49  36.0        91.7           0"
      ]
     },
     "execution_count": 28,
     "metadata": {},
     "output_type": "execute_result"
    }
   ],
   "source": [
    "print(loan[['int_rate', 'term', 'revol_util','emp_length']].info())\n",
    "loan[['int_rate', 'term', 'revol_util', 'emp_length']].head(10)"
   ]
  },
  {
   "cell_type": "markdown",
   "metadata": {},
   "source": [
    "Check the precision of float columns, can be round off to 2 digits."
   ]
  },
  {
   "cell_type": "code",
   "execution_count": 29,
   "metadata": {},
   "outputs": [],
   "source": [
    "#fetching all float columns for checking precision, total_pymnt is the oly column with precision more than 2\n",
    "loan.loc[:,loan.dtypes=='float'].tail()\n",
    "loan.total_pymnt=round(loan['total_pymnt'], 2)"
   ]
  },
  {
   "cell_type": "markdown",
   "metadata": {},
   "source": [
    "During going through the dataset i feel two more columns can also be dropped which won't contribute in our analysis.\n",
    "* member_id\n",
    "* zip_code"
   ]
  },
  {
   "cell_type": "code",
   "execution_count": 30,
   "metadata": {},
   "outputs": [],
   "source": [
    "#let's drop these columns\n",
    "loan.drop(columns=['member_id', 'zip_code'], inplace=True)"
   ]
  },
  {
   "cell_type": "markdown",
   "metadata": {},
   "source": [
    "We are done with Data cleaning and let's see at our clean data set"
   ]
  },
  {
   "cell_type": "code",
   "execution_count": 31,
   "metadata": {},
   "outputs": [
    {
     "data": {
      "text/plain": [
       "(36433, 38)"
      ]
     },
     "execution_count": 31,
     "metadata": {},
     "output_type": "execute_result"
    }
   ],
   "source": [
    "loan.shape"
   ]
  },
  {
   "cell_type": "code",
   "execution_count": 32,
   "metadata": {},
   "outputs": [
    {
     "data": {
      "text/html": [
       "<div>\n",
       "<style scoped>\n",
       "    .dataframe tbody tr th:only-of-type {\n",
       "        vertical-align: middle;\n",
       "    }\n",
       "\n",
       "    .dataframe tbody tr th {\n",
       "        vertical-align: top;\n",
       "    }\n",
       "\n",
       "    .dataframe thead th {\n",
       "        text-align: right;\n",
       "    }\n",
       "</style>\n",
       "<table border=\"1\" class=\"dataframe\">\n",
       "  <thead>\n",
       "    <tr style=\"text-align: right;\">\n",
       "      <th></th>\n",
       "      <th>loan_amnt</th>\n",
       "      <th>term</th>\n",
       "      <th>int_rate</th>\n",
       "      <th>installment</th>\n",
       "      <th>emp_length</th>\n",
       "      <th>annual_inc</th>\n",
       "      <th>dti</th>\n",
       "      <th>delinq_2yrs</th>\n",
       "      <th>inq_last_6mths</th>\n",
       "      <th>open_acc</th>\n",
       "      <th>...</th>\n",
       "      <th>out_prncp_inv</th>\n",
       "      <th>total_pymnt</th>\n",
       "      <th>total_pymnt_inv</th>\n",
       "      <th>total_rec_prncp</th>\n",
       "      <th>total_rec_int</th>\n",
       "      <th>total_rec_late_fee</th>\n",
       "      <th>recoveries</th>\n",
       "      <th>collection_recovery_fee</th>\n",
       "      <th>last_pymnt_amnt</th>\n",
       "      <th>pub_rec_bankruptcies</th>\n",
       "    </tr>\n",
       "  </thead>\n",
       "  <tbody>\n",
       "    <tr>\n",
       "      <th>count</th>\n",
       "      <td>36433.000000</td>\n",
       "      <td>36433.000000</td>\n",
       "      <td>36433.000000</td>\n",
       "      <td>36433.000000</td>\n",
       "      <td>36433.000000</td>\n",
       "      <td>3.643300e+04</td>\n",
       "      <td>36433.000000</td>\n",
       "      <td>36433.000000</td>\n",
       "      <td>36433.00000</td>\n",
       "      <td>36433.000000</td>\n",
       "      <td>...</td>\n",
       "      <td>36433.000000</td>\n",
       "      <td>36433.000000</td>\n",
       "      <td>36433.000000</td>\n",
       "      <td>36433.000000</td>\n",
       "      <td>36433.000000</td>\n",
       "      <td>36433.000000</td>\n",
       "      <td>36433.000000</td>\n",
       "      <td>36433.000000</td>\n",
       "      <td>36433.000000</td>\n",
       "      <td>36433.000000</td>\n",
       "    </tr>\n",
       "    <tr>\n",
       "      <th>mean</th>\n",
       "      <td>11307.679851</td>\n",
       "      <td>42.624324</td>\n",
       "      <td>12.073862</td>\n",
       "      <td>326.186394</td>\n",
       "      <td>5.015645</td>\n",
       "      <td>6.930522e+04</td>\n",
       "      <td>13.444131</td>\n",
       "      <td>0.146131</td>\n",
       "      <td>0.86493</td>\n",
       "      <td>9.351604</td>\n",
       "      <td>...</td>\n",
       "      <td>52.213313</td>\n",
       "      <td>12310.968665</td>\n",
       "      <td>11841.070656</td>\n",
       "      <td>9912.408471</td>\n",
       "      <td>2304.404937</td>\n",
       "      <td>1.299840</td>\n",
       "      <td>92.855490</td>\n",
       "      <td>11.677065</td>\n",
       "      <td>2742.955476</td>\n",
       "      <td>0.041418</td>\n",
       "    </tr>\n",
       "    <tr>\n",
       "      <th>std</th>\n",
       "      <td>7433.859357</td>\n",
       "      <td>10.728712</td>\n",
       "      <td>3.734758</td>\n",
       "      <td>207.389943</td>\n",
       "      <td>3.542914</td>\n",
       "      <td>6.354244e+04</td>\n",
       "      <td>6.643308</td>\n",
       "      <td>0.492199</td>\n",
       "      <td>1.06343</td>\n",
       "      <td>4.373772</td>\n",
       "      <td>...</td>\n",
       "      <td>378.443825</td>\n",
       "      <td>9048.420882</td>\n",
       "      <td>8911.319070</td>\n",
       "      <td>7053.212865</td>\n",
       "      <td>2629.542911</td>\n",
       "      <td>7.065629</td>\n",
       "      <td>682.047187</td>\n",
       "      <td>140.880327</td>\n",
       "      <td>4473.528922</td>\n",
       "      <td>0.200221</td>\n",
       "    </tr>\n",
       "    <tr>\n",
       "      <th>min</th>\n",
       "      <td>500.000000</td>\n",
       "      <td>36.000000</td>\n",
       "      <td>5.420000</td>\n",
       "      <td>16.080000</td>\n",
       "      <td>0.000000</td>\n",
       "      <td>4.000000e+03</td>\n",
       "      <td>0.000000</td>\n",
       "      <td>0.000000</td>\n",
       "      <td>0.00000</td>\n",
       "      <td>2.000000</td>\n",
       "      <td>...</td>\n",
       "      <td>0.000000</td>\n",
       "      <td>33.730000</td>\n",
       "      <td>0.000000</td>\n",
       "      <td>0.000000</td>\n",
       "      <td>6.220000</td>\n",
       "      <td>0.000000</td>\n",
       "      <td>0.000000</td>\n",
       "      <td>0.000000</td>\n",
       "      <td>0.010000</td>\n",
       "      <td>0.000000</td>\n",
       "    </tr>\n",
       "    <tr>\n",
       "      <th>25%</th>\n",
       "      <td>5600.000000</td>\n",
       "      <td>36.000000</td>\n",
       "      <td>9.320000</td>\n",
       "      <td>168.900000</td>\n",
       "      <td>2.000000</td>\n",
       "      <td>4.200000e+04</td>\n",
       "      <td>8.360000</td>\n",
       "      <td>0.000000</td>\n",
       "      <td>0.00000</td>\n",
       "      <td>6.000000</td>\n",
       "      <td>...</td>\n",
       "      <td>0.000000</td>\n",
       "      <td>5672.560000</td>\n",
       "      <td>5413.410000</td>\n",
       "      <td>4800.000000</td>\n",
       "      <td>678.010000</td>\n",
       "      <td>0.000000</td>\n",
       "      <td>0.000000</td>\n",
       "      <td>0.000000</td>\n",
       "      <td>226.280000</td>\n",
       "      <td>0.000000</td>\n",
       "    </tr>\n",
       "    <tr>\n",
       "      <th>50%</th>\n",
       "      <td>10000.000000</td>\n",
       "      <td>36.000000</td>\n",
       "      <td>11.860000</td>\n",
       "      <td>283.280000</td>\n",
       "      <td>4.000000</td>\n",
       "      <td>6.000000e+04</td>\n",
       "      <td>13.540000</td>\n",
       "      <td>0.000000</td>\n",
       "      <td>1.00000</td>\n",
       "      <td>9.000000</td>\n",
       "      <td>...</td>\n",
       "      <td>0.000000</td>\n",
       "      <td>10101.590000</td>\n",
       "      <td>9632.040000</td>\n",
       "      <td>8123.600000</td>\n",
       "      <td>1379.820000</td>\n",
       "      <td>0.000000</td>\n",
       "      <td>0.000000</td>\n",
       "      <td>0.000000</td>\n",
       "      <td>571.700000</td>\n",
       "      <td>0.000000</td>\n",
       "    </tr>\n",
       "    <tr>\n",
       "      <th>75%</th>\n",
       "      <td>15000.000000</td>\n",
       "      <td>60.000000</td>\n",
       "      <td>14.650000</td>\n",
       "      <td>432.220000</td>\n",
       "      <td>9.000000</td>\n",
       "      <td>8.300000e+04</td>\n",
       "      <td>18.690000</td>\n",
       "      <td>0.000000</td>\n",
       "      <td>1.00000</td>\n",
       "      <td>12.000000</td>\n",
       "      <td>...</td>\n",
       "      <td>0.000000</td>\n",
       "      <td>16700.720000</td>\n",
       "      <td>16094.490000</td>\n",
       "      <td>14000.000000</td>\n",
       "      <td>2891.860000</td>\n",
       "      <td>0.000000</td>\n",
       "      <td>0.000000</td>\n",
       "      <td>0.000000</td>\n",
       "      <td>3457.580000</td>\n",
       "      <td>0.000000</td>\n",
       "    </tr>\n",
       "    <tr>\n",
       "      <th>max</th>\n",
       "      <td>35000.000000</td>\n",
       "      <td>60.000000</td>\n",
       "      <td>24.400000</td>\n",
       "      <td>1305.190000</td>\n",
       "      <td>10.000000</td>\n",
       "      <td>6.000000e+06</td>\n",
       "      <td>29.990000</td>\n",
       "      <td>11.000000</td>\n",
       "      <td>8.00000</td>\n",
       "      <td>44.000000</td>\n",
       "      <td>...</td>\n",
       "      <td>6307.370000</td>\n",
       "      <td>58563.680000</td>\n",
       "      <td>58563.680000</td>\n",
       "      <td>35000.020000</td>\n",
       "      <td>23563.680000</td>\n",
       "      <td>180.200000</td>\n",
       "      <td>29623.350000</td>\n",
       "      <td>7002.190000</td>\n",
       "      <td>36115.200000</td>\n",
       "      <td>2.000000</td>\n",
       "    </tr>\n",
       "  </tbody>\n",
       "</table>\n",
       "<p>8 rows × 25 columns</p>\n",
       "</div>"
      ],
      "text/plain": [
       "          loan_amnt          term      int_rate   installment    emp_length  \\\n",
       "count  36433.000000  36433.000000  36433.000000  36433.000000  36433.000000   \n",
       "mean   11307.679851     42.624324     12.073862    326.186394      5.015645   \n",
       "std     7433.859357     10.728712      3.734758    207.389943      3.542914   \n",
       "min      500.000000     36.000000      5.420000     16.080000      0.000000   \n",
       "25%     5600.000000     36.000000      9.320000    168.900000      2.000000   \n",
       "50%    10000.000000     36.000000     11.860000    283.280000      4.000000   \n",
       "75%    15000.000000     60.000000     14.650000    432.220000      9.000000   \n",
       "max    35000.000000     60.000000     24.400000   1305.190000     10.000000   \n",
       "\n",
       "         annual_inc           dti   delinq_2yrs  inq_last_6mths      open_acc  \\\n",
       "count  3.643300e+04  36433.000000  36433.000000     36433.00000  36433.000000   \n",
       "mean   6.930522e+04     13.444131      0.146131         0.86493      9.351604   \n",
       "std    6.354244e+04      6.643308      0.492199         1.06343      4.373772   \n",
       "min    4.000000e+03      0.000000      0.000000         0.00000      2.000000   \n",
       "25%    4.200000e+04      8.360000      0.000000         0.00000      6.000000   \n",
       "50%    6.000000e+04     13.540000      0.000000         1.00000      9.000000   \n",
       "75%    8.300000e+04     18.690000      0.000000         1.00000     12.000000   \n",
       "max    6.000000e+06     29.990000     11.000000         8.00000     44.000000   \n",
       "\n",
       "       ...  out_prncp_inv   total_pymnt  total_pymnt_inv  total_rec_prncp  \\\n",
       "count  ...   36433.000000  36433.000000     36433.000000     36433.000000   \n",
       "mean   ...      52.213313  12310.968665     11841.070656      9912.408471   \n",
       "std    ...     378.443825   9048.420882      8911.319070      7053.212865   \n",
       "min    ...       0.000000     33.730000         0.000000         0.000000   \n",
       "25%    ...       0.000000   5672.560000      5413.410000      4800.000000   \n",
       "50%    ...       0.000000  10101.590000      9632.040000      8123.600000   \n",
       "75%    ...       0.000000  16700.720000     16094.490000     14000.000000   \n",
       "max    ...    6307.370000  58563.680000     58563.680000     35000.020000   \n",
       "\n",
       "       total_rec_int  total_rec_late_fee    recoveries  \\\n",
       "count   36433.000000        36433.000000  36433.000000   \n",
       "mean     2304.404937            1.299840     92.855490   \n",
       "std      2629.542911            7.065629    682.047187   \n",
       "min         6.220000            0.000000      0.000000   \n",
       "25%       678.010000            0.000000      0.000000   \n",
       "50%      1379.820000            0.000000      0.000000   \n",
       "75%      2891.860000            0.000000      0.000000   \n",
       "max     23563.680000          180.200000  29623.350000   \n",
       "\n",
       "       collection_recovery_fee  last_pymnt_amnt  pub_rec_bankruptcies  \n",
       "count             36433.000000     36433.000000          36433.000000  \n",
       "mean                 11.677065      2742.955476              0.041418  \n",
       "std                 140.880327      4473.528922              0.200221  \n",
       "min                   0.000000         0.010000              0.000000  \n",
       "25%                   0.000000       226.280000              0.000000  \n",
       "50%                   0.000000       571.700000              0.000000  \n",
       "75%                   0.000000      3457.580000              0.000000  \n",
       "max                7002.190000     36115.200000              2.000000  \n",
       "\n",
       "[8 rows x 25 columns]"
      ]
     },
     "execution_count": 32,
     "metadata": {},
     "output_type": "execute_result"
    }
   ],
   "source": [
    "loan.describe()"
   ]
  },
  {
   "cell_type": "code",
   "execution_count": 33,
   "metadata": {},
   "outputs": [
    {
     "data": {
      "text/html": [
       "<div>\n",
       "<style scoped>\n",
       "    .dataframe tbody tr th:only-of-type {\n",
       "        vertical-align: middle;\n",
       "    }\n",
       "\n",
       "    .dataframe tbody tr th {\n",
       "        vertical-align: top;\n",
       "    }\n",
       "\n",
       "    .dataframe thead th {\n",
       "        text-align: right;\n",
       "    }\n",
       "</style>\n",
       "<table border=\"1\" class=\"dataframe\">\n",
       "  <thead>\n",
       "    <tr style=\"text-align: right;\">\n",
       "      <th></th>\n",
       "      <th>loan_amnt</th>\n",
       "      <th>term</th>\n",
       "      <th>int_rate</th>\n",
       "      <th>installment</th>\n",
       "      <th>grade</th>\n",
       "      <th>sub_grade</th>\n",
       "      <th>emp_title</th>\n",
       "      <th>emp_length</th>\n",
       "      <th>home_ownership</th>\n",
       "      <th>annual_inc</th>\n",
       "      <th>verification_status</th>\n",
       "      <th>issue_d</th>\n",
       "      <th>loan_status</th>\n",
       "      <th>purpose</th>\n",
       "      <th>title</th>\n",
       "      <th>addr_state</th>\n",
       "      <th>dti</th>\n",
       "      <th>delinq_2yrs</th>\n",
       "      <th>earliest_cr_line</th>\n",
       "      <th>inq_last_6mths</th>\n",
       "      <th>open_acc</th>\n",
       "      <th>pub_rec</th>\n",
       "      <th>revol_bal</th>\n",
       "      <th>revol_util</th>\n",
       "      <th>total_acc</th>\n",
       "      <th>out_prncp</th>\n",
       "      <th>out_prncp_inv</th>\n",
       "      <th>total_pymnt</th>\n",
       "      <th>total_pymnt_inv</th>\n",
       "      <th>total_rec_prncp</th>\n",
       "      <th>total_rec_int</th>\n",
       "      <th>total_rec_late_fee</th>\n",
       "      <th>recoveries</th>\n",
       "      <th>collection_recovery_fee</th>\n",
       "      <th>last_pymnt_d</th>\n",
       "      <th>last_pymnt_amnt</th>\n",
       "      <th>last_credit_pull_d</th>\n",
       "      <th>pub_rec_bankruptcies</th>\n",
       "    </tr>\n",
       "  </thead>\n",
       "  <tbody>\n",
       "    <tr>\n",
       "      <th>1</th>\n",
       "      <td>2500</td>\n",
       "      <td>60.0</td>\n",
       "      <td>15.27</td>\n",
       "      <td>59.83</td>\n",
       "      <td>C</td>\n",
       "      <td>C4</td>\n",
       "      <td>Ryder</td>\n",
       "      <td>0</td>\n",
       "      <td>RENT</td>\n",
       "      <td>30000.0</td>\n",
       "      <td>Source Verified</td>\n",
       "      <td>2011-12-01</td>\n",
       "      <td>Charged Off</td>\n",
       "      <td>car</td>\n",
       "      <td>bike</td>\n",
       "      <td>GA</td>\n",
       "      <td>1.00</td>\n",
       "      <td>0</td>\n",
       "      <td>1999-04-01</td>\n",
       "      <td>5</td>\n",
       "      <td>3</td>\n",
       "      <td>0</td>\n",
       "      <td>1687</td>\n",
       "      <td>9.4</td>\n",
       "      <td>4</td>\n",
       "      <td>0.00</td>\n",
       "      <td>0.00</td>\n",
       "      <td>1008.71</td>\n",
       "      <td>1008.71</td>\n",
       "      <td>456.46</td>\n",
       "      <td>435.17</td>\n",
       "      <td>0.00</td>\n",
       "      <td>117.08</td>\n",
       "      <td>1.11</td>\n",
       "      <td>2013-04-01</td>\n",
       "      <td>119.66</td>\n",
       "      <td>2013-09-01</td>\n",
       "      <td>0.0</td>\n",
       "    </tr>\n",
       "    <tr>\n",
       "      <th>3</th>\n",
       "      <td>10000</td>\n",
       "      <td>36.0</td>\n",
       "      <td>13.49</td>\n",
       "      <td>339.31</td>\n",
       "      <td>C</td>\n",
       "      <td>C1</td>\n",
       "      <td>AIR RESOURCES BOARD</td>\n",
       "      <td>10</td>\n",
       "      <td>RENT</td>\n",
       "      <td>49200.0</td>\n",
       "      <td>Source Verified</td>\n",
       "      <td>2011-12-01</td>\n",
       "      <td>Fully Paid</td>\n",
       "      <td>other</td>\n",
       "      <td>personel</td>\n",
       "      <td>CA</td>\n",
       "      <td>20.00</td>\n",
       "      <td>0</td>\n",
       "      <td>1996-02-01</td>\n",
       "      <td>1</td>\n",
       "      <td>10</td>\n",
       "      <td>0</td>\n",
       "      <td>5598</td>\n",
       "      <td>21.0</td>\n",
       "      <td>37</td>\n",
       "      <td>0.00</td>\n",
       "      <td>0.00</td>\n",
       "      <td>12231.89</td>\n",
       "      <td>12231.89</td>\n",
       "      <td>10000.00</td>\n",
       "      <td>2214.92</td>\n",
       "      <td>16.97</td>\n",
       "      <td>0.00</td>\n",
       "      <td>0.00</td>\n",
       "      <td>2015-01-01</td>\n",
       "      <td>357.48</td>\n",
       "      <td>2016-04-01</td>\n",
       "      <td>0.0</td>\n",
       "    </tr>\n",
       "    <tr>\n",
       "      <th>4</th>\n",
       "      <td>3000</td>\n",
       "      <td>60.0</td>\n",
       "      <td>12.69</td>\n",
       "      <td>67.79</td>\n",
       "      <td>B</td>\n",
       "      <td>B5</td>\n",
       "      <td>University Medical Group</td>\n",
       "      <td>1</td>\n",
       "      <td>RENT</td>\n",
       "      <td>80000.0</td>\n",
       "      <td>Source Verified</td>\n",
       "      <td>2011-12-01</td>\n",
       "      <td>Current</td>\n",
       "      <td>other</td>\n",
       "      <td>Personal</td>\n",
       "      <td>OR</td>\n",
       "      <td>17.94</td>\n",
       "      <td>0</td>\n",
       "      <td>1996-01-01</td>\n",
       "      <td>0</td>\n",
       "      <td>15</td>\n",
       "      <td>0</td>\n",
       "      <td>27783</td>\n",
       "      <td>53.9</td>\n",
       "      <td>38</td>\n",
       "      <td>524.06</td>\n",
       "      <td>524.06</td>\n",
       "      <td>3513.33</td>\n",
       "      <td>3513.33</td>\n",
       "      <td>2475.94</td>\n",
       "      <td>1037.39</td>\n",
       "      <td>0.00</td>\n",
       "      <td>0.00</td>\n",
       "      <td>0.00</td>\n",
       "      <td>2016-05-01</td>\n",
       "      <td>67.79</td>\n",
       "      <td>2016-05-01</td>\n",
       "      <td>0.0</td>\n",
       "    </tr>\n",
       "    <tr>\n",
       "      <th>5</th>\n",
       "      <td>5000</td>\n",
       "      <td>36.0</td>\n",
       "      <td>7.90</td>\n",
       "      <td>156.46</td>\n",
       "      <td>A</td>\n",
       "      <td>A4</td>\n",
       "      <td>Veolia Transportaton</td>\n",
       "      <td>3</td>\n",
       "      <td>RENT</td>\n",
       "      <td>36000.0</td>\n",
       "      <td>Source Verified</td>\n",
       "      <td>2011-12-01</td>\n",
       "      <td>Fully Paid</td>\n",
       "      <td>wedding</td>\n",
       "      <td>My wedding loan I promise to pay back</td>\n",
       "      <td>AZ</td>\n",
       "      <td>11.20</td>\n",
       "      <td>0</td>\n",
       "      <td>2004-11-01</td>\n",
       "      <td>3</td>\n",
       "      <td>9</td>\n",
       "      <td>0</td>\n",
       "      <td>7963</td>\n",
       "      <td>28.3</td>\n",
       "      <td>12</td>\n",
       "      <td>0.00</td>\n",
       "      <td>0.00</td>\n",
       "      <td>5632.21</td>\n",
       "      <td>5632.21</td>\n",
       "      <td>5000.00</td>\n",
       "      <td>632.21</td>\n",
       "      <td>0.00</td>\n",
       "      <td>0.00</td>\n",
       "      <td>0.00</td>\n",
       "      <td>2015-01-01</td>\n",
       "      <td>161.03</td>\n",
       "      <td>2016-01-01</td>\n",
       "      <td>0.0</td>\n",
       "    </tr>\n",
       "    <tr>\n",
       "      <th>6</th>\n",
       "      <td>7000</td>\n",
       "      <td>60.0</td>\n",
       "      <td>15.96</td>\n",
       "      <td>170.08</td>\n",
       "      <td>C</td>\n",
       "      <td>C5</td>\n",
       "      <td>Southern Star Photography</td>\n",
       "      <td>8</td>\n",
       "      <td>RENT</td>\n",
       "      <td>47004.0</td>\n",
       "      <td>Not Verified</td>\n",
       "      <td>2011-12-01</td>\n",
       "      <td>Fully Paid</td>\n",
       "      <td>debt_consolidation</td>\n",
       "      <td>Loan</td>\n",
       "      <td>NC</td>\n",
       "      <td>23.51</td>\n",
       "      <td>0</td>\n",
       "      <td>2005-07-01</td>\n",
       "      <td>1</td>\n",
       "      <td>7</td>\n",
       "      <td>0</td>\n",
       "      <td>17726</td>\n",
       "      <td>85.6</td>\n",
       "      <td>11</td>\n",
       "      <td>0.00</td>\n",
       "      <td>0.00</td>\n",
       "      <td>10110.84</td>\n",
       "      <td>10110.84</td>\n",
       "      <td>6985.61</td>\n",
       "      <td>3125.23</td>\n",
       "      <td>0.00</td>\n",
       "      <td>0.00</td>\n",
       "      <td>0.00</td>\n",
       "      <td>2016-05-01</td>\n",
       "      <td>1313.76</td>\n",
       "      <td>2016-05-01</td>\n",
       "      <td>0.0</td>\n",
       "    </tr>\n",
       "  </tbody>\n",
       "</table>\n",
       "</div>"
      ],
      "text/plain": [
       "   loan_amnt  term  int_rate  installment grade sub_grade  \\\n",
       "1       2500  60.0     15.27        59.83     C        C4   \n",
       "3      10000  36.0     13.49       339.31     C        C1   \n",
       "4       3000  60.0     12.69        67.79     B        B5   \n",
       "5       5000  36.0      7.90       156.46     A        A4   \n",
       "6       7000  60.0     15.96       170.08     C        C5   \n",
       "\n",
       "                   emp_title  emp_length home_ownership  annual_inc  \\\n",
       "1                      Ryder           0           RENT     30000.0   \n",
       "3        AIR RESOURCES BOARD          10           RENT     49200.0   \n",
       "4   University Medical Group           1           RENT     80000.0   \n",
       "5       Veolia Transportaton           3           RENT     36000.0   \n",
       "6  Southern Star Photography           8           RENT     47004.0   \n",
       "\n",
       "  verification_status    issue_d  loan_status             purpose  \\\n",
       "1     Source Verified 2011-12-01  Charged Off                 car   \n",
       "3     Source Verified 2011-12-01   Fully Paid               other   \n",
       "4     Source Verified 2011-12-01      Current               other   \n",
       "5     Source Verified 2011-12-01   Fully Paid             wedding   \n",
       "6        Not Verified 2011-12-01   Fully Paid  debt_consolidation   \n",
       "\n",
       "                                   title addr_state    dti  delinq_2yrs  \\\n",
       "1                                   bike         GA   1.00            0   \n",
       "3                               personel         CA  20.00            0   \n",
       "4                               Personal         OR  17.94            0   \n",
       "5  My wedding loan I promise to pay back         AZ  11.20            0   \n",
       "6                                   Loan         NC  23.51            0   \n",
       "\n",
       "  earliest_cr_line  inq_last_6mths  open_acc  pub_rec  revol_bal  revol_util  \\\n",
       "1       1999-04-01               5         3        0       1687         9.4   \n",
       "3       1996-02-01               1        10        0       5598        21.0   \n",
       "4       1996-01-01               0        15        0      27783        53.9   \n",
       "5       2004-11-01               3         9        0       7963        28.3   \n",
       "6       2005-07-01               1         7        0      17726        85.6   \n",
       "\n",
       "   total_acc  out_prncp  out_prncp_inv  total_pymnt  total_pymnt_inv  \\\n",
       "1          4       0.00           0.00      1008.71          1008.71   \n",
       "3         37       0.00           0.00     12231.89         12231.89   \n",
       "4         38     524.06         524.06      3513.33          3513.33   \n",
       "5         12       0.00           0.00      5632.21          5632.21   \n",
       "6         11       0.00           0.00     10110.84         10110.84   \n",
       "\n",
       "   total_rec_prncp  total_rec_int  total_rec_late_fee  recoveries  \\\n",
       "1           456.46         435.17                0.00      117.08   \n",
       "3         10000.00        2214.92               16.97        0.00   \n",
       "4          2475.94        1037.39                0.00        0.00   \n",
       "5          5000.00         632.21                0.00        0.00   \n",
       "6          6985.61        3125.23                0.00        0.00   \n",
       "\n",
       "   collection_recovery_fee last_pymnt_d  last_pymnt_amnt last_credit_pull_d  \\\n",
       "1                     1.11   2013-04-01           119.66         2013-09-01   \n",
       "3                     0.00   2015-01-01           357.48         2016-04-01   \n",
       "4                     0.00   2016-05-01            67.79         2016-05-01   \n",
       "5                     0.00   2015-01-01           161.03         2016-01-01   \n",
       "6                     0.00   2016-05-01          1313.76         2016-05-01   \n",
       "\n",
       "   pub_rec_bankruptcies  \n",
       "1                   0.0  \n",
       "3                   0.0  \n",
       "4                   0.0  \n",
       "5                   0.0  \n",
       "6                   0.0  "
      ]
     },
     "execution_count": 33,
     "metadata": {},
     "output_type": "execute_result"
    }
   ],
   "source": [
    "pd.set_option('display.max_columns', 50)\n",
    "loan.head()"
   ]
  },
  {
   "cell_type": "code",
   "execution_count": 34,
   "metadata": {},
   "outputs": [
    {
     "data": {
      "text/plain": [
       "debt_consolidation    17470\n",
       "credit_card            4726\n",
       "other                  3575\n",
       "home_improvement       2705\n",
       "major_purchase         2008\n",
       "car                    1443\n",
       "small_business         1414\n",
       "wedding                 886\n",
       "medical                 634\n",
       "moving                  529\n",
       "house                   343\n",
       "vacation                336\n",
       "educational             276\n",
       "renewable_energy         88\n",
       "Name: purpose, dtype: int64"
      ]
     },
     "execution_count": 34,
     "metadata": {},
     "output_type": "execute_result"
    }
   ],
   "source": [
    "loan.purpose.value_counts()"
   ]
  },
  {
   "cell_type": "markdown",
   "metadata": {},
   "source": [
    "### Bivariate Analysis\n",
    "-First lets start with plotting of continous variable corelation matrix, it will give us the idea of relation between pairs."
   ]
  },
  {
   "cell_type": "code",
   "execution_count": 35,
   "metadata": {},
   "outputs": [
    {
     "data": {
      "text/plain": [
       "<matplotlib.axes._subplots.AxesSubplot at 0x1a235b78198>"
      ]
     },
     "execution_count": 35,
     "metadata": {},
     "output_type": "execute_result"
    },
    {
     "data": {
      "image/png": "[encoded data removed]",
      "text/plain": [
       "<Figure size 1080x1080 with 2 Axes>"
      ]
     },
     "metadata": {
      "needs_background": "light"
     },
     "output_type": "display_data"
    }
   ],
   "source": [
    "plt.figure(figsize=(15,15))\n",
    "cont_var= ['loan_amnt', 'int_rate', 'installment',\n",
    "       'emp_length', 'annual_inc',\n",
    "       'dti', 'delinq_2yrs', 'earliest_cr_line',\n",
    "       'inq_last_6mths', 'open_acc', 'pub_rec', 'revol_bal', 'revol_util',\n",
    "       'total_acc', 'last_pymnt_d', 'last_pymnt_amnt', 'last_credit_pull_d',\n",
    "       'pub_rec_bankruptcies']\n",
    "corr = loan[cont_var].corr()\n",
    "sns.heatmap(corr, annot=True, center=0.5)"
   ]
  },
  {
   "cell_type": "markdown",
   "metadata": {},
   "source": [
    "-Observations from above matrix\n",
    "* loan_amnt and int_rate is positively corelated with a factor of 0.31 which means interest rates are higher for higher loan amount, we will verify it more with other plots.\n",
    "* revol_util and int_rate are also corelated with a factor of 0.47, will see it in more details using other plots.\n",
    "* revol_bal is the total amount on your credit that is unpaid, we can see from above matrix it is corelated with loan_amnt with a factor of 0.32 which is significant to tell that loan_amt is more for borrowers having more revol_bal. This can be considered as a risk.\n",
    "\n",
    "Above matrix is just for getting a quick idea of relations between variables. Let's move ahead and compare pairs of variables with other categorical variables also."
   ]
  },
  {
   "cell_type": "markdown",
   "metadata": {},
   "source": [
    "#### Interest Rates and Loan Amount"
   ]
  },
  {
   "cell_type": "markdown",
   "metadata": {},
   "source": [
    "Let's start with the understanding of loan amount and interest rates"
   ]
  },
  {
   "cell_type": "code",
   "execution_count": 36,
   "metadata": {
    "scrolled": true
   },
   "outputs": [
    {
     "data": {
      "image/png": "[encoded data removed]",
      "text/plain": [
       "<Figure size 1440x432 with 2 Axes>"
      ]
     },
     "metadata": {
      "needs_background": "light"
     },
     "output_type": "display_data"
    }
   ],
   "source": [
    "#loan amnt distribution plot\n",
    "fig, (ax0, ax1) = plt.subplots(nrows=1,ncols=2, figsize=(20,6))\n",
    "sns.distplot(loan['loan_amnt'], axlabel = 'Loan Amount', ax=ax0)\n",
    "sns.boxplot(loan['loan_amnt'], ax=ax1)\n",
    "plt.show()"
   ]
  },
  {
   "cell_type": "markdown",
   "metadata": {},
   "source": [
    "Loan amount is mostly in the range of 5000-15000"
   ]
  },
  {
   "cell_type": "code",
   "execution_count": 37,
   "metadata": {},
   "outputs": [
    {
     "data": {
      "image/png": "[encoded data removed]",
      "text/plain": [
       "<Figure size 1440x432 with 2 Axes>"
      ]
     },
     "metadata": {
      "needs_background": "light"
     },
     "output_type": "display_data"
    }
   ],
   "source": [
    "fig, (ax0, ax1) = plt.subplots(nrows=1,ncols=2, figsize=(20,6))\n",
    "sns.distplot(loan['int_rate'], axlabel = 'Interest Rate', ax=ax0)\n",
    "sns.boxplot(loan['int_rate'], ax=ax1)\n",
    "plt.show()"
   ]
  },
  {
   "cell_type": "markdown",
   "metadata": {},
   "source": [
    "Interest rate are mostly in the range of 8-15%, note some of loans are offered at interest rates higher than 20%"
   ]
  },
  {
   "cell_type": "markdown",
   "metadata": {},
   "source": [
    "Now let's see how the loan amnt and interest rates changes over the time period"
   ]
  },
  {
   "cell_type": "code",
   "execution_count": 38,
   "metadata": {},
   "outputs": [
    {
     "data": {
      "image/png": "[encoded data removed]",
      "text/plain": [
       "<Figure size 1440x720 with 2 Axes>"
      ]
     },
     "metadata": {
      "needs_background": "light"
     },
     "output_type": "display_data"
    }
   ],
   "source": [
    "tmp=loan[['loan_amnt', 'int_rate', 'issue_d']]\n",
    "tmp['issue_year']=loan['issue_d'].dt.year\n",
    "fig,(ax0,ax1) = plt.subplots(nrows=1, ncols=2, figsize=(20,10))\n",
    "sns.barplot(x='issue_year', y='loan_amnt', data=tmp, ax=ax0)\n",
    "sns.barplot(x='issue_year', y='int_rate', data=tmp, ax=ax1)\n",
    "plt.show()"
   ]
  },
  {
   "cell_type": "markdown",
   "metadata": {},
   "source": [
    "We can see Loan amount has been increasing over the years, in 2008 there's a change in trend and that may be due to the economic crisis, also interest rate has been increasing gradually over the years."
   ]
  },
  {
   "cell_type": "markdown",
   "metadata": {},
   "source": [
    "#### Grades"
   ]
  },
  {
   "cell_type": "markdown",
   "metadata": {},
   "source": [
    "Let's see how grades are related and try to find out it's impact on our analysis."
   ]
  },
  {
   "cell_type": "code",
   "execution_count": 39,
   "metadata": {},
   "outputs": [
    {
     "data": {
      "image/png": "[encoded data removed]",
      "text/plain": [
       "<Figure size 720x504 with 1 Axes>"
      ]
     },
     "metadata": {
      "needs_background": "light"
     },
     "output_type": "display_data"
    }
   ],
   "source": [
    "plt.figure(figsize=(10,7))\n",
    "sns.countplot(x='grade', data=loan, order=['A','B','C','D','E','F','G'])\n",
    "plt.show()"
   ]
  },
  {
   "cell_type": "markdown",
   "metadata": {},
   "source": [
    "As visually clear from above plot, most of the loans are of high grade. Let's see their impact on charge-offs"
   ]
  },
  {
   "cell_type": "code",
   "execution_count": 81,
   "metadata": {},
   "outputs": [
    {
     "data": {
      "text/plain": [
       "loan_status  grade\n",
       "Charged Off  A         513\n",
       "             B        1253\n",
       "             C        1170\n",
       "             D         980\n",
       "             E         648\n",
       "             F         286\n",
       "             G          93\n",
       "Current      A          35\n",
       "             B         317\n",
       "             C         250\n",
       "             D         212\n",
       "             E         169\n",
       "             F          67\n",
       "             G          16\n",
       "Fully Paid   A        8627\n",
       "             B        9465\n",
       "             C        6011\n",
       "             D        3683\n",
       "             E        1833\n",
       "             F         616\n",
       "             G         189\n",
       "Name: grade, dtype: int64"
      ]
     },
     "execution_count": 81,
     "metadata": {},
     "output_type": "execute_result"
    }
   ],
   "source": [
    "grp = loan.groupby(['loan_status','grade'])['grade'].count()\n",
    "grp"
   ]
  },
  {
   "cell_type": "code",
   "execution_count": 82,
   "metadata": {},
   "outputs": [
    {
     "data": {
      "text/plain": [
       "grade\n",
       "A     9175\n",
       "B    11035\n",
       "C     7431\n",
       "D     4875\n",
       "E     2650\n",
       "F      969\n",
       "G      298\n",
       "Name: grade, dtype: int64"
      ]
     },
     "execution_count": 82,
     "metadata": {},
     "output_type": "execute_result"
    }
   ],
   "source": [
    "cnt = loan.groupby('grade')['grade'].count()\n",
    "cnt"
   ]
  },
  {
   "cell_type": "code",
   "execution_count": 83,
   "metadata": {},
   "outputs": [
    {
     "data": {
      "text/html": [
       "<div>\n",
       "<style scoped>\n",
       "    .dataframe tbody tr th:only-of-type {\n",
       "        vertical-align: middle;\n",
       "    }\n",
       "\n",
       "    .dataframe tbody tr th {\n",
       "        vertical-align: top;\n",
       "    }\n",
       "\n",
       "    .dataframe thead th {\n",
       "        text-align: right;\n",
       "    }\n",
       "</style>\n",
       "<table border=\"1\" class=\"dataframe\">\n",
       "  <thead>\n",
       "    <tr style=\"text-align: right;\">\n",
       "      <th>grade</th>\n",
       "      <th>A</th>\n",
       "      <th>B</th>\n",
       "      <th>C</th>\n",
       "      <th>D</th>\n",
       "      <th>E</th>\n",
       "      <th>F</th>\n",
       "      <th>G</th>\n",
       "    </tr>\n",
       "    <tr>\n",
       "      <th>loan_status</th>\n",
       "      <th></th>\n",
       "      <th></th>\n",
       "      <th></th>\n",
       "      <th></th>\n",
       "      <th></th>\n",
       "      <th></th>\n",
       "      <th></th>\n",
       "    </tr>\n",
       "  </thead>\n",
       "  <tbody>\n",
       "    <tr>\n",
       "      <th>Charged Off</th>\n",
       "      <td>5.591281</td>\n",
       "      <td>11.354780</td>\n",
       "      <td>15.744853</td>\n",
       "      <td>20.102564</td>\n",
       "      <td>24.452830</td>\n",
       "      <td>29.514964</td>\n",
       "      <td>31.208054</td>\n",
       "    </tr>\n",
       "    <tr>\n",
       "      <th>Current</th>\n",
       "      <td>0.381471</td>\n",
       "      <td>2.872678</td>\n",
       "      <td>3.364285</td>\n",
       "      <td>4.348718</td>\n",
       "      <td>6.377358</td>\n",
       "      <td>6.914345</td>\n",
       "      <td>5.369128</td>\n",
       "    </tr>\n",
       "    <tr>\n",
       "      <th>Fully Paid</th>\n",
       "      <td>94.027248</td>\n",
       "      <td>85.772542</td>\n",
       "      <td>80.890863</td>\n",
       "      <td>75.548718</td>\n",
       "      <td>69.169811</td>\n",
       "      <td>63.570691</td>\n",
       "      <td>63.422819</td>\n",
       "    </tr>\n",
       "  </tbody>\n",
       "</table>\n",
       "</div>"
      ],
      "text/plain": [
       "grade                A          B          C          D          E          F  \\\n",
       "loan_status                                                                     \n",
       "Charged Off   5.591281  11.354780  15.744853  20.102564  24.452830  29.514964   \n",
       "Current       0.381471   2.872678   3.364285   4.348718   6.377358   6.914345   \n",
       "Fully Paid   94.027248  85.772542  80.890863  75.548718  69.169811  63.570691   \n",
       "\n",
       "grade                G  \n",
       "loan_status             \n",
       "Charged Off  31.208054  \n",
       "Current       5.369128  \n",
       "Fully Paid   63.422819  "
      ]
     },
     "execution_count": 83,
     "metadata": {},
     "output_type": "execute_result"
    }
   ],
   "source": [
    "percentages = grp.unstack() * 100 / cnt.T\n",
    "percentages"
   ]
  },
  {
   "cell_type": "code",
   "execution_count": 41,
   "metadata": {},
   "outputs": [
    {
     "data": {
      "text/plain": [
       "Text(0, 0.5, 'Charged Off loans in %')"
      ]
     },
     "execution_count": 41,
     "metadata": {},
     "output_type": "execute_result"
    },
    {
     "data": {
      "image/png": "[encoded data removed]",
      "text/plain": [
       "<Figure size 432x288 with 1 Axes>"
      ]
     },
     "metadata": {
      "needs_background": "light"
     },
     "output_type": "display_data"
    }
   ],
   "source": [
    "grp = loan.groupby(['loan_status','grade'])['grade'].count()\n",
    "cnt = loan.groupby('grade')['grade'].count()\n",
    "percentages = grp.unstack() * 100 / cnt.T\n",
    "ax = percentages.loc['Charged Off'].plot.bar(color=sns.color_palette('cubehelix', 8))\n",
    "ax.set_ylabel('Charged Off loans in %')"
   ]
  },
  {
   "cell_type": "markdown",
   "metadata": {},
   "source": [
    "Clearly evident from above graph low grades have more chances of charged-offs and we should avoid giving loans to customers in lower grade."
   ]
  },
  {
   "cell_type": "markdown",
   "metadata": {},
   "source": [
    "Let's see how we are charging Interest Rates as per the grades"
   ]
  },
  {
   "cell_type": "code",
   "execution_count": 42,
   "metadata": {},
   "outputs": [
    {
     "data": {
      "image/png": "[encoded data removed]",
      "text/plain": [
       "<Figure size 720x504 with 1 Axes>"
      ]
     },
     "metadata": {
      "needs_background": "light"
     },
     "output_type": "display_data"
    }
   ],
   "source": [
    "plt.figure(figsize=(10,7))\n",
    "sns.barplot(x='grade', y='int_rate',data=loan,order=['A','B','C','D','E','F','G'])\n",
    "plt.show()"
   ]
  },
  {
   "cell_type": "markdown",
   "metadata": {},
   "source": [
    "Above plot suggests that we are charging more interest rates in lower grade that is good as they are more riskier."
   ]
  },
  {
   "cell_type": "markdown",
   "metadata": {},
   "source": [
    "#### Loan Amount"
   ]
  },
  {
   "cell_type": "code",
   "execution_count": 43,
   "metadata": {},
   "outputs": [
    {
     "data": {
      "text/plain": [
       "count    36433.000000\n",
       "mean     11307.679851\n",
       "std       7433.859357\n",
       "min        500.000000\n",
       "25%       5600.000000\n",
       "50%      10000.000000\n",
       "75%      15000.000000\n",
       "max      35000.000000\n",
       "Name: loan_amnt, dtype: float64"
      ]
     },
     "execution_count": 43,
     "metadata": {},
     "output_type": "execute_result"
    }
   ],
   "source": [
    "#Frist we need to bin income variable for better visualization.\n",
    "loan['loan_amnt'].describe()"
   ]
  },
  {
   "cell_type": "code",
   "execution_count": 44,
   "metadata": {},
   "outputs": [],
   "source": [
    "loan['loan_amnt_bin'] = pd.cut(loan['loan_amnt'], [x for x in range(0, 36000, 5000)], \n",
    "                                      labels=[str(x)+'-'+str(x+5)+'k' for x in range (0, 35, 5)])"
   ]
  },
  {
   "cell_type": "code",
   "execution_count": 45,
   "metadata": {},
   "outputs": [
    {
     "data": {
      "text/html": [
       "<div>\n",
       "<style scoped>\n",
       "    .dataframe tbody tr th:only-of-type {\n",
       "        vertical-align: middle;\n",
       "    }\n",
       "\n",
       "    .dataframe tbody tr th {\n",
       "        vertical-align: top;\n",
       "    }\n",
       "\n",
       "    .dataframe thead th {\n",
       "        text-align: right;\n",
       "    }\n",
       "</style>\n",
       "<table border=\"1\" class=\"dataframe\">\n",
       "  <thead>\n",
       "    <tr style=\"text-align: right;\">\n",
       "      <th></th>\n",
       "      <th>loan_amnt</th>\n",
       "      <th>loan_amnt_bin</th>\n",
       "    </tr>\n",
       "  </thead>\n",
       "  <tbody>\n",
       "    <tr>\n",
       "      <th>1</th>\n",
       "      <td>2500</td>\n",
       "      <td>0-5k</td>\n",
       "    </tr>\n",
       "    <tr>\n",
       "      <th>3</th>\n",
       "      <td>10000</td>\n",
       "      <td>5-10k</td>\n",
       "    </tr>\n",
       "    <tr>\n",
       "      <th>4</th>\n",
       "      <td>3000</td>\n",
       "      <td>0-5k</td>\n",
       "    </tr>\n",
       "    <tr>\n",
       "      <th>5</th>\n",
       "      <td>5000</td>\n",
       "      <td>0-5k</td>\n",
       "    </tr>\n",
       "    <tr>\n",
       "      <th>6</th>\n",
       "      <td>7000</td>\n",
       "      <td>5-10k</td>\n",
       "    </tr>\n",
       "  </tbody>\n",
       "</table>\n",
       "</div>"
      ],
      "text/plain": [
       "   loan_amnt loan_amnt_bin\n",
       "1       2500          0-5k\n",
       "3      10000         5-10k\n",
       "4       3000          0-5k\n",
       "5       5000          0-5k\n",
       "6       7000         5-10k"
      ]
     },
     "execution_count": 45,
     "metadata": {},
     "output_type": "execute_result"
    }
   ],
   "source": [
    "loan[['loan_amnt','loan_amnt_bin']].head()"
   ]
  },
  {
   "cell_type": "code",
   "execution_count": 46,
   "metadata": {},
   "outputs": [
    {
     "data": {
      "image/png": "[encoded data removed]",
      "text/plain": [
       "<Figure size 1440x720 with 1 Axes>"
      ]
     },
     "metadata": {
      "needs_background": "light"
     },
     "output_type": "display_data"
    }
   ],
   "source": [
    "plt.figure(figsize=(20,10))\n",
    "sns.countplot(x='loan_amnt_bin', hue='purpose',data=loan)\n",
    "plt.show()"
   ]
  },
  {
   "cell_type": "markdown",
   "metadata": {},
   "source": [
    "We can see in detail here, debt consolidation and credit card are always the top purpose in each loan amount segment."
   ]
  },
  {
   "cell_type": "code",
   "execution_count": 47,
   "metadata": {},
   "outputs": [
    {
     "data": {
      "text/plain": [
       "Text(0, 0.5, 'Count of loans')"
      ]
     },
     "execution_count": 47,
     "metadata": {},
     "output_type": "execute_result"
    },
    {
     "data": {
      "image/png": "[encoded data removed]",
      "text/plain": [
       "<Figure size 432x288 with 1 Axes>"
      ]
     },
     "metadata": {
      "needs_background": "light"
     },
     "output_type": "display_data"
    }
   ],
   "source": [
    "#Let's plot loan amount against percentage of charge-offs to see it's impact on defaults\n",
    "grp=loan.groupby(by=['loan_status', 'loan_amnt_bin'])['loan_amnt_bin'].count()\n",
    "cnt=loan.groupby(by='loan_amnt_bin')['loan_amnt_bin'].count()\n",
    "ax=cnt.plot.bar(color=sns.color_palette('cubehelix', 8))\n",
    "ax.set_ylabel('Count of loans')"
   ]
  },
  {
   "cell_type": "markdown",
   "metadata": {},
   "source": [
    "We can see most of the loan_amnt has been taken in the range of 5-10k"
   ]
  },
  {
   "cell_type": "code",
   "execution_count": 48,
   "metadata": {},
   "outputs": [
    {
     "data": {
      "text/plain": [
       "Text(0, 0.5, 'Charged Off loans in %')"
      ]
     },
     "execution_count": 48,
     "metadata": {},
     "output_type": "execute_result"
    },
    {
     "data": {
      "image/png": "[encoded data removed]",
      "text/plain": [
       "<Figure size 432x288 with 1 Axes>"
      ]
     },
     "metadata": {
      "needs_background": "light"
     },
     "output_type": "display_data"
    }
   ],
   "source": [
    "perc=grp.unstack() * 100/ cnt.T\n",
    "ax=perc.loc['Charged Off'].plot.bar(color=sns.color_palette('cubehelix', 8))\n",
    "ax.set_ylabel('Charged Off loans in %')"
   ]
  },
  {
   "cell_type": "markdown",
   "metadata": {},
   "source": [
    "This clearly depicts that instead most of the loan amount are in the lower range but charge-offs increases as the loan amount increases. Approving high amount of loans is always risky as it will have more than 20% chances of defaults."
   ]
  },
  {
   "cell_type": "markdown",
   "metadata": {},
   "source": [
    "#### Customer Income/ Annual Income"
   ]
  },
  {
   "cell_type": "code",
   "execution_count": 49,
   "metadata": {},
   "outputs": [
    {
     "data": {
      "text/plain": [
       "count    3.643300e+04\n",
       "mean     6.930522e+04\n",
       "std      6.354244e+04\n",
       "min      4.000000e+03\n",
       "25%      4.200000e+04\n",
       "50%      6.000000e+04\n",
       "75%      8.300000e+04\n",
       "max      6.000000e+06\n",
       "Name: annual_inc, dtype: float64"
      ]
     },
     "execution_count": 49,
     "metadata": {},
     "output_type": "execute_result"
    }
   ],
   "source": [
    "#bin customer income and compare it with loan amount and loan status.\n",
    "loan.annual_inc.describe()"
   ]
  },
  {
   "cell_type": "code",
   "execution_count": 50,
   "metadata": {},
   "outputs": [
    {
     "data": {
      "image/png": "[encoded data removed]",
      "text/plain": [
       "<Figure size 1440x432 with 2 Axes>"
      ]
     },
     "metadata": {
      "needs_background": "light"
     },
     "output_type": "display_data"
    }
   ],
   "source": [
    "#annual income distribution plot\n",
    "fig, (ax0, ax1) = plt.subplots(nrows=1,ncols=2, figsize=(20,6))\n",
    "sns.distplot(loan['annual_inc'], axlabel = 'Annual Income of Borrower', ax=ax0)\n",
    "sns.boxplot(loan['annual_inc'], ax=ax1)\n",
    "plt.show()"
   ]
  },
  {
   "cell_type": "markdown",
   "metadata": {},
   "source": [
    "We can see there are some outliers which are affecting the visualization of this graph, outliers must be avoided to see the existing patterns."
   ]
  },
  {
   "cell_type": "code",
   "execution_count": 51,
   "metadata": {},
   "outputs": [
    {
     "data": {
      "text/plain": [
       "149981.0"
      ]
     },
     "execution_count": 51,
     "metadata": {},
     "output_type": "execute_result"
    }
   ],
   "source": [
    "#excluding outliers in annual income\n",
    "temp=loan[loan['annual_inc'] < 150000]\n",
    "temp.annual_inc.max()"
   ]
  },
  {
   "cell_type": "code",
   "execution_count": 52,
   "metadata": {},
   "outputs": [
    {
     "data": {
      "image/png": "[encoded data removed]",
      "text/plain": [
       "<Figure size 1440x432 with 2 Axes>"
      ]
     },
     "metadata": {
      "needs_background": "light"
     },
     "output_type": "display_data"
    }
   ],
   "source": [
    "#annual income distribution plot\n",
    "fig, (ax0, ax1) = plt.subplots(nrows=1,ncols=2, figsize=(20,6))\n",
    "sns.distplot(temp['annual_inc'], axlabel = 'Annual Income of Borrower', ax=ax0)\n",
    "sns.boxplot(temp['annual_inc'], ax=ax1)\n",
    "plt.show()"
   ]
  },
  {
   "cell_type": "markdown",
   "metadata": {},
   "source": [
    "In above plot we can see the maximun spread is in between 0-150000 and bin size of 25000 seems good for analysis"
   ]
  },
  {
   "cell_type": "code",
   "execution_count": 53,
   "metadata": {},
   "outputs": [],
   "source": [
    "loan['annual_inc_bin'] = pd.cut(loan['annual_inc'], [x for x in range(0, 160000, 25000)], \n",
    "                                      labels=[str(x)+'-'+str(x+25)+'k' for x in range (0, 150, 25)])"
   ]
  },
  {
   "cell_type": "code",
   "execution_count": 54,
   "metadata": {},
   "outputs": [
    {
     "data": {
      "text/html": [
       "<div>\n",
       "<style scoped>\n",
       "    .dataframe tbody tr th:only-of-type {\n",
       "        vertical-align: middle;\n",
       "    }\n",
       "\n",
       "    .dataframe tbody tr th {\n",
       "        vertical-align: top;\n",
       "    }\n",
       "\n",
       "    .dataframe thead th {\n",
       "        text-align: right;\n",
       "    }\n",
       "</style>\n",
       "<table border=\"1\" class=\"dataframe\">\n",
       "  <thead>\n",
       "    <tr style=\"text-align: right;\">\n",
       "      <th></th>\n",
       "      <th>annual_inc</th>\n",
       "      <th>annual_inc_bin</th>\n",
       "    </tr>\n",
       "  </thead>\n",
       "  <tbody>\n",
       "    <tr>\n",
       "      <th>1</th>\n",
       "      <td>30000.0</td>\n",
       "      <td>25-50k</td>\n",
       "    </tr>\n",
       "    <tr>\n",
       "      <th>3</th>\n",
       "      <td>49200.0</td>\n",
       "      <td>25-50k</td>\n",
       "    </tr>\n",
       "    <tr>\n",
       "      <th>4</th>\n",
       "      <td>80000.0</td>\n",
       "      <td>75-100k</td>\n",
       "    </tr>\n",
       "    <tr>\n",
       "      <th>5</th>\n",
       "      <td>36000.0</td>\n",
       "      <td>25-50k</td>\n",
       "    </tr>\n",
       "    <tr>\n",
       "      <th>6</th>\n",
       "      <td>47004.0</td>\n",
       "      <td>25-50k</td>\n",
       "    </tr>\n",
       "  </tbody>\n",
       "</table>\n",
       "</div>"
      ],
      "text/plain": [
       "   annual_inc annual_inc_bin\n",
       "1     30000.0         25-50k\n",
       "3     49200.0         25-50k\n",
       "4     80000.0        75-100k\n",
       "5     36000.0         25-50k\n",
       "6     47004.0         25-50k"
      ]
     },
     "execution_count": 54,
     "metadata": {},
     "output_type": "execute_result"
    }
   ],
   "source": [
    "loan[['annual_inc', 'annual_inc_bin']].head(5)"
   ]
  },
  {
   "cell_type": "code",
   "execution_count": 55,
   "metadata": {},
   "outputs": [
    {
     "data": {
      "image/png": "[encoded data removed]",
      "text/plain": [
       "<Figure size 1440x504 with 2 Axes>"
      ]
     },
     "metadata": {
      "needs_background": "light"
     },
     "output_type": "display_data"
    }
   ],
   "source": [
    "#plotting annual income against loan amount and int_rate\n",
    "fig,(ax0,ax1)=plt.subplots(nrows=1,ncols=2,figsize=(20,7))\n",
    "sns.barplot(x='annual_inc_bin', y='loan_amnt',data=loan,ax=ax0)\n",
    "sns.barplot(x='annual_inc_bin', y='int_rate',data=loan,ax=ax1)\n",
    "plt.show()"
   ]
  },
  {
   "cell_type": "markdown",
   "metadata": {},
   "source": [
    "This seems obvious, loan amount increases as income increases and a small variance in int rate that is obvious also."
   ]
  },
  {
   "cell_type": "code",
   "execution_count": 56,
   "metadata": {},
   "outputs": [
    {
     "data": {
      "text/plain": [
       "Text(0, 0.5, 'Charged Off loans in %')"
      ]
     },
     "execution_count": 56,
     "metadata": {},
     "output_type": "execute_result"
    },
    {
     "data": {
      "image/png": "[encoded data removed]",
      "text/plain": [
       "<Figure size 432x288 with 1 Axes>"
      ]
     },
     "metadata": {
      "needs_background": "light"
     },
     "output_type": "display_data"
    }
   ],
   "source": [
    "grp = loan.groupby(['loan_status','annual_inc_bin'])['annual_inc_bin'].count()\n",
    "cnt = loan.groupby('annual_inc_bin')['annual_inc_bin'].count()\n",
    "percentages = grp.unstack() * 100 / cnt.T\n",
    "ax = percentages.loc['Charged Off'].plot.bar(color=sns.color_palette('cubehelix', 8))\n",
    "ax.set_ylabel('Charged Off loans in %')"
   ]
  },
  {
   "cell_type": "markdown",
   "metadata": {},
   "source": [
    "Charge-Offs percentage are more for customer in lower income segment, Lending clubs can be more concious when providing loan in lower annual income segment."
   ]
  },
  {
   "cell_type": "markdown",
   "metadata": {},
   "source": [
    "#### DTI - Debt To Income ratio"
   ]
  },
  {
   "cell_type": "markdown",
   "metadata": {},
   "source": [
    "Let's see how DTI ratio is related with Loan status"
   ]
  },
  {
   "cell_type": "code",
   "execution_count": 57,
   "metadata": {},
   "outputs": [
    {
     "data": {
      "image/png": "[encoded data removed]",
      "text/plain": [
       "<Figure size 720x360 with 1 Axes>"
      ]
     },
     "metadata": {
      "needs_background": "light"
     },
     "output_type": "display_data"
    }
   ],
   "source": [
    "#first we will see the DTI variance and data spread to identify the bin size.\n",
    "plt.figure(figsize=(10,5))\n",
    "sns.distplot(loan['dti'], axlabel='Debt to Income ratio')\n",
    "plt.show()"
   ]
  },
  {
   "cell_type": "code",
   "execution_count": 58,
   "metadata": {},
   "outputs": [
    {
     "data": {
      "text/plain": [
       "count    36433.000000\n",
       "mean        13.444131\n",
       "std          6.643308\n",
       "min          0.000000\n",
       "25%          8.360000\n",
       "50%         13.540000\n",
       "75%         18.690000\n",
       "max         29.990000\n",
       "Name: dti, dtype: float64"
      ]
     },
     "execution_count": 58,
     "metadata": {},
     "output_type": "execute_result"
    }
   ],
   "source": [
    "loan.dti.describe()"
   ]
  },
  {
   "cell_type": "code",
   "execution_count": 59,
   "metadata": {},
   "outputs": [],
   "source": [
    "#Lets derive new column dti_bin\n",
    "loan['dti_bin'] = pd.cut(loan['dti'], [x for x in range(0, 31, 5)], \n",
    "                                      labels=[str(x)+'-'+str(x+5)+'%' for x in range (0, 30, 5)])"
   ]
  },
  {
   "cell_type": "code",
   "execution_count": 60,
   "metadata": {},
   "outputs": [
    {
     "data": {
      "text/html": [
       "<div>\n",
       "<style scoped>\n",
       "    .dataframe tbody tr th:only-of-type {\n",
       "        vertical-align: middle;\n",
       "    }\n",
       "\n",
       "    .dataframe tbody tr th {\n",
       "        vertical-align: top;\n",
       "    }\n",
       "\n",
       "    .dataframe thead th {\n",
       "        text-align: right;\n",
       "    }\n",
       "</style>\n",
       "<table border=\"1\" class=\"dataframe\">\n",
       "  <thead>\n",
       "    <tr style=\"text-align: right;\">\n",
       "      <th></th>\n",
       "      <th>dti</th>\n",
       "      <th>dti_bin</th>\n",
       "    </tr>\n",
       "  </thead>\n",
       "  <tbody>\n",
       "    <tr>\n",
       "      <th>1</th>\n",
       "      <td>1.00</td>\n",
       "      <td>0-5%</td>\n",
       "    </tr>\n",
       "    <tr>\n",
       "      <th>3</th>\n",
       "      <td>20.00</td>\n",
       "      <td>15-20%</td>\n",
       "    </tr>\n",
       "    <tr>\n",
       "      <th>4</th>\n",
       "      <td>17.94</td>\n",
       "      <td>15-20%</td>\n",
       "    </tr>\n",
       "    <tr>\n",
       "      <th>5</th>\n",
       "      <td>11.20</td>\n",
       "      <td>10-15%</td>\n",
       "    </tr>\n",
       "    <tr>\n",
       "      <th>6</th>\n",
       "      <td>23.51</td>\n",
       "      <td>20-25%</td>\n",
       "    </tr>\n",
       "  </tbody>\n",
       "</table>\n",
       "</div>"
      ],
      "text/plain": [
       "     dti dti_bin\n",
       "1   1.00    0-5%\n",
       "3  20.00  15-20%\n",
       "4  17.94  15-20%\n",
       "5  11.20  10-15%\n",
       "6  23.51  20-25%"
      ]
     },
     "execution_count": 60,
     "metadata": {},
     "output_type": "execute_result"
    }
   ],
   "source": [
    "loan[['dti', 'dti_bin']].head()"
   ]
  },
  {
   "cell_type": "code",
   "execution_count": 61,
   "metadata": {},
   "outputs": [
    {
     "data": {
      "text/plain": [
       "dti_bin\n",
       "0-5%      4376\n",
       "5-10%     7314\n",
       "10-15%    9152\n",
       "15-20%    8428\n",
       "20-25%    6394\n",
       "25-30%     624\n",
       "Name: dti_bin, dtype: int64"
      ]
     },
     "execution_count": 61,
     "metadata": {},
     "output_type": "execute_result"
    }
   ],
   "source": [
    "#Let's plot dti against the percentage of charged off loans.\n",
    "grp=loan.groupby(by=['loan_status', 'dti_bin'])['dti_bin'].count()\n",
    "cnt=loan.groupby(by='dti_bin')['dti_bin'].count()\n",
    "cnt"
   ]
  },
  {
   "cell_type": "markdown",
   "metadata": {},
   "source": [
    "Note: There are very less customer in DTI range 25-30%"
   ]
  },
  {
   "cell_type": "code",
   "execution_count": 62,
   "metadata": {},
   "outputs": [
    {
     "data": {
      "text/html": [
       "<div>\n",
       "<style scoped>\n",
       "    .dataframe tbody tr th:only-of-type {\n",
       "        vertical-align: middle;\n",
       "    }\n",
       "\n",
       "    .dataframe tbody tr th {\n",
       "        vertical-align: top;\n",
       "    }\n",
       "\n",
       "    .dataframe thead th {\n",
       "        text-align: right;\n",
       "    }\n",
       "</style>\n",
       "<table border=\"1\" class=\"dataframe\">\n",
       "  <thead>\n",
       "    <tr style=\"text-align: right;\">\n",
       "      <th>dti_bin</th>\n",
       "      <th>0-5%</th>\n",
       "      <th>5-10%</th>\n",
       "      <th>10-15%</th>\n",
       "      <th>15-20%</th>\n",
       "      <th>20-25%</th>\n",
       "      <th>25-30%</th>\n",
       "    </tr>\n",
       "    <tr>\n",
       "      <th>loan_status</th>\n",
       "      <th></th>\n",
       "      <th></th>\n",
       "      <th></th>\n",
       "      <th></th>\n",
       "      <th></th>\n",
       "      <th></th>\n",
       "    </tr>\n",
       "  </thead>\n",
       "  <tbody>\n",
       "    <tr>\n",
       "      <th>Charged Off</th>\n",
       "      <td>11.334552</td>\n",
       "      <td>11.594203</td>\n",
       "      <td>13.767483</td>\n",
       "      <td>14.653536</td>\n",
       "      <td>15.686581</td>\n",
       "      <td>12.500000</td>\n",
       "    </tr>\n",
       "    <tr>\n",
       "      <th>Current</th>\n",
       "      <td>1.919561</td>\n",
       "      <td>2.584085</td>\n",
       "      <td>2.742570</td>\n",
       "      <td>3.061224</td>\n",
       "      <td>3.597122</td>\n",
       "      <td>7.852564</td>\n",
       "    </tr>\n",
       "    <tr>\n",
       "      <th>Fully Paid</th>\n",
       "      <td>86.745887</td>\n",
       "      <td>85.821712</td>\n",
       "      <td>83.489948</td>\n",
       "      <td>82.285240</td>\n",
       "      <td>80.716297</td>\n",
       "      <td>79.647436</td>\n",
       "    </tr>\n",
       "  </tbody>\n",
       "</table>\n",
       "</div>"
      ],
      "text/plain": [
       "dti_bin           0-5%      5-10%     10-15%     15-20%     20-25%     25-30%\n",
       "loan_status                                                                  \n",
       "Charged Off  11.334552  11.594203  13.767483  14.653536  15.686581  12.500000\n",
       "Current       1.919561   2.584085   2.742570   3.061224   3.597122   7.852564\n",
       "Fully Paid   86.745887  85.821712  83.489948  82.285240  80.716297  79.647436"
      ]
     },
     "execution_count": 62,
     "metadata": {},
     "output_type": "execute_result"
    }
   ],
   "source": [
    "perc=grp.unstack()*100/cnt.T\n",
    "perc"
   ]
  },
  {
   "cell_type": "code",
   "execution_count": 63,
   "metadata": {},
   "outputs": [
    {
     "data": {
      "text/plain": [
       "Text(0, 0.5, '% of loans Charged Off')"
      ]
     },
     "execution_count": 63,
     "metadata": {},
     "output_type": "execute_result"
    },
    {
     "data": {
      "image/png": "[encoded data removed]",
      "text/plain": [
       "<Figure size 432x288 with 1 Axes>"
      ]
     },
     "metadata": {
      "needs_background": "light"
     },
     "output_type": "display_data"
    }
   ],
   "source": [
    "ax=perc.loc['Charged Off'].plot.bar(color=sns.color_palette('cubehelix', 8))\n",
    "ax.set_ylabel('% of loans Charged Off')"
   ]
  },
  {
   "cell_type": "markdown",
   "metadata": {},
   "source": [
    "Charge-Offs percentage is increasing as DTI increases that means it is risky to provide loans to customer whose DTI percentage is high. Charge-Offs percentage is more than 14% in DTI range 15-25% but decreases after that which is due to the very less number of customer in that range."
   ]
  },
  {
   "cell_type": "markdown",
   "metadata": {},
   "source": [
    "#### Home Ownership Vs Loan Status"
   ]
  },
  {
   "cell_type": "code",
   "execution_count": 64,
   "metadata": {},
   "outputs": [
    {
     "data": {
      "text/plain": [
       "Fully Paid     30424\n",
       "Charged Off     4943\n",
       "Name: loan_status, dtype: int64"
      ]
     },
     "execution_count": 64,
     "metadata": {},
     "output_type": "execute_result"
    }
   ],
   "source": [
    "#before comparison, lets filter out our loan dataset to include only fully_paid and charged-off loan status, \n",
    "#current wont add much in our analysis.\n",
    "filter_cond=loan['loan_status'].str.contains('Charged Off') | loan['loan_status'].str.contains('Fully Paid')\n",
    "loan_filtered = loan[filter_cond]\n",
    "loan_filtered.loan_status.value_counts()"
   ]
  },
  {
   "cell_type": "code",
   "execution_count": 65,
   "metadata": {},
   "outputs": [
    {
     "data": {
      "text/plain": [
       "Text(0, 0.5, 'Charged Off loans in %')"
      ]
     },
     "execution_count": 65,
     "metadata": {},
     "output_type": "execute_result"
    },
    {
     "data": {
      "image/png": "[encoded data removed]",
      "text/plain": [
       "<Figure size 432x288 with 1 Axes>"
      ]
     },
     "metadata": {
      "needs_background": "light"
     },
     "output_type": "display_data"
    }
   ],
   "source": [
    "grp = loan.groupby(['loan_status','home_ownership'])['home_ownership'].count()\n",
    "cnt = loan.groupby('home_ownership')['home_ownership'].count()\n",
    "percentages = grp.unstack() * 100 / cnt.T\n",
    "ax = percentages.loc['Charged Off'].plot.bar(color=sns.color_palette('cubehelix', 8))\n",
    "ax.set_ylabel('Charged Off loans in %')"
   ]
  },
  {
   "cell_type": "markdown",
   "metadata": {},
   "source": [
    "Here we can see that home ownership does not have any significant impact on Loan Status and we can not say that borrower's home ownership with rent or mortgage will tend to default more or vice versa."
   ]
  },
  {
   "cell_type": "markdown",
   "metadata": {},
   "source": [
    "#### Purpose Vs Loan Status"
   ]
  },
  {
   "cell_type": "code",
   "execution_count": 66,
   "metadata": {},
   "outputs": [
    {
     "data": {
      "image/png": "[encoded data removed]",
      "text/plain": [
       "<Figure size 2160x1080 with 1 Axes>"
      ]
     },
     "metadata": {
      "needs_background": "light"
     },
     "output_type": "display_data"
    }
   ],
   "source": [
    "plt.figure(figsize = (30,15))\n",
    "sns.countplot(x='purpose', data = loan)\n",
    "plt.show()"
   ]
  },
  {
   "cell_type": "markdown",
   "metadata": {},
   "source": [
    "More number of loans is taken for debt_consolidation followed by credit_card."
   ]
  },
  {
   "cell_type": "code",
   "execution_count": 67,
   "metadata": {},
   "outputs": [
    {
     "data": {
      "image/png": "[encoded data removed]",
      "text/plain": [
       "<Figure size 2160x1080 with 1 Axes>"
      ]
     },
     "metadata": {
      "needs_background": "light"
     },
     "output_type": "display_data"
    }
   ],
   "source": [
    "plt.figure(figsize=(30,15))\n",
    "sns.barplot(x='purpose', y='loan_amnt', hue='loan_status',data=loan_filtered, estimator=np.mean)\n",
    "plt.show()"
   ]
  },
  {
   "cell_type": "markdown",
   "metadata": {},
   "source": [
    "This is one interesting observation, here we can see loan is taken more for small business purpose and also risk is more in when it is taken for the purpose of small business."
   ]
  },
  {
   "cell_type": "markdown",
   "metadata": {},
   "source": [
    "#### Emp Length Vs Loan Status"
   ]
  },
  {
   "cell_type": "code",
   "execution_count": 68,
   "metadata": {},
   "outputs": [
    {
     "data": {
      "text/plain": [
       "Text(0, 0.5, 'Charged Off loans in %')"
      ]
     },
     "execution_count": 68,
     "metadata": {},
     "output_type": "execute_result"
    },
    {
     "data": {
      "image/png": "[encoded data removed]",
      "text/plain": [
       "<Figure size 432x288 with 1 Axes>"
      ]
     },
     "metadata": {
      "needs_background": "light"
     },
     "output_type": "display_data"
    }
   ],
   "source": [
    "grp = loan.groupby(['loan_status','emp_length'])['emp_length'].count()\n",
    "cnt = loan.groupby('emp_length')['emp_length'].count()\n",
    "percentages = grp.unstack() * 100 / cnt.T\n",
    "ax = percentages.loc['Charged Off'].plot.bar(color=sns.color_palette('cubehelix', 8))\n",
    "ax.set_ylabel('Charged Off loans in %')"
   ]
  },
  {
   "cell_type": "markdown",
   "metadata": {},
   "source": [
    "Experienced borrowers have a slight more tendency of default but the difference is not that much significant to tell that borrowers in certain experience range are more expected to default on loans."
   ]
  },
  {
   "cell_type": "markdown",
   "metadata": {},
   "source": [
    "#### Interest Rate Vs Loan Status"
   ]
  },
  {
   "cell_type": "code",
   "execution_count": 69,
   "metadata": {},
   "outputs": [
    {
     "data": {
      "image/png": "[encoded data removed]",
      "text/plain": [
       "<Figure size 720x360 with 1 Axes>"
      ]
     },
     "metadata": {
      "needs_background": "light"
     },
     "output_type": "display_data"
    }
   ],
   "source": [
    "#we will see the int_rate variance and data spread to identify the bin size.\n",
    "plt.figure(figsize=(10,5))\n",
    "sns.distplot(loan['int_rate'], axlabel='Interest Rate')\n",
    "plt.show()"
   ]
  },
  {
   "cell_type": "code",
   "execution_count": 70,
   "metadata": {},
   "outputs": [
    {
     "data": {
      "text/plain": [
       "count    36433.000000\n",
       "mean        12.073862\n",
       "std          3.734758\n",
       "min          5.420000\n",
       "25%          9.320000\n",
       "50%         11.860000\n",
       "75%         14.650000\n",
       "max         24.400000\n",
       "Name: int_rate, dtype: float64"
      ]
     },
     "execution_count": 70,
     "metadata": {},
     "output_type": "execute_result"
    }
   ],
   "source": [
    "loan.int_rate.describe()"
   ]
  },
  {
   "cell_type": "code",
   "execution_count": 71,
   "metadata": {},
   "outputs": [],
   "source": [
    "#Lets derive new column int_rate_bin\n",
    "loan['int_rate_bin'] = pd.cut(loan['int_rate'], [x for x in range(0, 26, 5)], \n",
    "                                      labels=[str(x)+'-'+str(x+5)+'%' for x in range (0, 25, 5)])"
   ]
  },
  {
   "cell_type": "code",
   "execution_count": 72,
   "metadata": {},
   "outputs": [
    {
     "data": {
      "text/html": [
       "<div>\n",
       "<style scoped>\n",
       "    .dataframe tbody tr th:only-of-type {\n",
       "        vertical-align: middle;\n",
       "    }\n",
       "\n",
       "    .dataframe tbody tr th {\n",
       "        vertical-align: top;\n",
       "    }\n",
       "\n",
       "    .dataframe thead th {\n",
       "        text-align: right;\n",
       "    }\n",
       "</style>\n",
       "<table border=\"1\" class=\"dataframe\">\n",
       "  <thead>\n",
       "    <tr style=\"text-align: right;\">\n",
       "      <th></th>\n",
       "      <th>int_rate</th>\n",
       "      <th>int_rate_bin</th>\n",
       "    </tr>\n",
       "  </thead>\n",
       "  <tbody>\n",
       "    <tr>\n",
       "      <th>1</th>\n",
       "      <td>15.27</td>\n",
       "      <td>15-20%</td>\n",
       "    </tr>\n",
       "    <tr>\n",
       "      <th>3</th>\n",
       "      <td>13.49</td>\n",
       "      <td>10-15%</td>\n",
       "    </tr>\n",
       "    <tr>\n",
       "      <th>4</th>\n",
       "      <td>12.69</td>\n",
       "      <td>10-15%</td>\n",
       "    </tr>\n",
       "    <tr>\n",
       "      <th>5</th>\n",
       "      <td>7.90</td>\n",
       "      <td>5-10%</td>\n",
       "    </tr>\n",
       "    <tr>\n",
       "      <th>6</th>\n",
       "      <td>15.96</td>\n",
       "      <td>15-20%</td>\n",
       "    </tr>\n",
       "  </tbody>\n",
       "</table>\n",
       "</div>"
      ],
      "text/plain": [
       "   int_rate int_rate_bin\n",
       "1     15.27       15-20%\n",
       "3     13.49       10-15%\n",
       "4     12.69       10-15%\n",
       "5      7.90        5-10%\n",
       "6     15.96       15-20%"
      ]
     },
     "execution_count": 72,
     "metadata": {},
     "output_type": "execute_result"
    }
   ],
   "source": [
    "loan[['int_rate', 'int_rate_bin']].head()"
   ]
  },
  {
   "cell_type": "code",
   "execution_count": 73,
   "metadata": {},
   "outputs": [
    {
     "data": {
      "text/plain": [
       "Text(0, 0.5, 'Charged Off loans in %')"
      ]
     },
     "execution_count": 73,
     "metadata": {},
     "output_type": "execute_result"
    },
    {
     "data": {
      "image/png": "[encoded data removed]",
      "text/plain": [
       "<Figure size 432x288 with 1 Axes>"
      ]
     },
     "metadata": {
      "needs_background": "light"
     },
     "output_type": "display_data"
    }
   ],
   "source": [
    "grp = loan.groupby(['loan_status','int_rate_bin'])['int_rate_bin'].count()\n",
    "cnt = loan.groupby('int_rate_bin')['int_rate_bin'].count()\n",
    "percentages = grp.unstack() * 100 / cnt.T\n",
    "ax = percentages.loc['Charged Off'].plot.bar(color=sns.color_palette('cubehelix', 8))\n",
    "ax.set_ylabel('Charged Off loans in %')"
   ]
  },
  {
   "cell_type": "markdown",
   "metadata": {},
   "source": [
    "Form above plot we can see that charge-offs are more for loans with higher interest rates."
   ]
  },
  {
   "cell_type": "markdown",
   "metadata": {},
   "source": [
    "#### Revol_Util vs Loan Status"
   ]
  },
  {
   "cell_type": "code",
   "execution_count": 74,
   "metadata": {},
   "outputs": [
    {
     "data": {
      "text/plain": [
       "count    36433.000000\n",
       "mean        49.276251\n",
       "std         28.191811\n",
       "min          0.000000\n",
       "25%         26.100000\n",
       "50%         49.900000\n",
       "75%         72.700000\n",
       "max         99.900000\n",
       "Name: revol_util, dtype: float64"
      ]
     },
     "execution_count": 74,
     "metadata": {},
     "output_type": "execute_result"
    }
   ],
   "source": [
    "loan.revol_util.describe()"
   ]
  },
  {
   "cell_type": "code",
   "execution_count": 75,
   "metadata": {},
   "outputs": [],
   "source": [
    "loan['revol_util_bin'] = pd.cut(loan['revol_util'], [x for x in range(0, 101, 10)], \n",
    "                                      labels=[str(x)+'-'+str(x+10)+'%' for x in range (0, 100, 10)])"
   ]
  },
  {
   "cell_type": "code",
   "execution_count": 76,
   "metadata": {},
   "outputs": [
    {
     "data": {
      "text/html": [
       "<div>\n",
       "<style scoped>\n",
       "    .dataframe tbody tr th:only-of-type {\n",
       "        vertical-align: middle;\n",
       "    }\n",
       "\n",
       "    .dataframe tbody tr th {\n",
       "        vertical-align: top;\n",
       "    }\n",
       "\n",
       "    .dataframe thead th {\n",
       "        text-align: right;\n",
       "    }\n",
       "</style>\n",
       "<table border=\"1\" class=\"dataframe\">\n",
       "  <thead>\n",
       "    <tr style=\"text-align: right;\">\n",
       "      <th></th>\n",
       "      <th>revol_util</th>\n",
       "      <th>revol_util_bin</th>\n",
       "    </tr>\n",
       "  </thead>\n",
       "  <tbody>\n",
       "    <tr>\n",
       "      <th>1</th>\n",
       "      <td>9.4</td>\n",
       "      <td>0-10%</td>\n",
       "    </tr>\n",
       "    <tr>\n",
       "      <th>3</th>\n",
       "      <td>21.0</td>\n",
       "      <td>20-30%</td>\n",
       "    </tr>\n",
       "    <tr>\n",
       "      <th>4</th>\n",
       "      <td>53.9</td>\n",
       "      <td>50-60%</td>\n",
       "    </tr>\n",
       "    <tr>\n",
       "      <th>5</th>\n",
       "      <td>28.3</td>\n",
       "      <td>20-30%</td>\n",
       "    </tr>\n",
       "    <tr>\n",
       "      <th>6</th>\n",
       "      <td>85.6</td>\n",
       "      <td>80-90%</td>\n",
       "    </tr>\n",
       "  </tbody>\n",
       "</table>\n",
       "</div>"
      ],
      "text/plain": [
       "   revol_util revol_util_bin\n",
       "1         9.4          0-10%\n",
       "3        21.0         20-30%\n",
       "4        53.9         50-60%\n",
       "5        28.3         20-30%\n",
       "6        85.6         80-90%"
      ]
     },
     "execution_count": 76,
     "metadata": {},
     "output_type": "execute_result"
    }
   ],
   "source": [
    "loan[['revol_util', 'revol_util_bin']].head()"
   ]
  },
  {
   "cell_type": "code",
   "execution_count": 77,
   "metadata": {},
   "outputs": [
    {
     "data": {
      "text/plain": [
       "Text(0, 0.5, 'Charged Off loans in %')"
      ]
     },
     "execution_count": 77,
     "metadata": {},
     "output_type": "execute_result"
    },
    {
     "data": {
      "image/png": "[encoded data removed]",
      "text/plain": [
       "<Figure size 432x288 with 1 Axes>"
      ]
     },
     "metadata": {
      "needs_background": "light"
     },
     "output_type": "display_data"
    }
   ],
   "source": [
    "grp = loan.groupby(['loan_status','revol_util_bin'])['revol_util_bin'].count()\n",
    "cnt = loan.groupby('revol_util_bin')['revol_util_bin'].count()\n",
    "percentages = grp.unstack() * 100 / cnt.T\n",
    "ax = percentages.loc['Charged Off'].plot.bar(color=sns.color_palette('cubehelix', 8))\n",
    "ax.set_ylabel('Charged Off loans in %')"
   ]
  },
  {
   "cell_type": "markdown",
   "metadata": {},
   "source": [
    "Revolving credit utilization is a good indicator of borrowers defaulting on loan, we can see in above plot charge-offs increases linearly with revol_util rate."
   ]
  }
 ],
 "metadata": {
  "kernelspec": {
   "display_name": "Python 3",
   "language": "python",
   "name": "python3"
  },
  "language_info": {
   "codemirror_mode": {
    "name": "ipython",
    "version": 3
   },
   "file_extension": ".py",
   "mimetype": "text/x-python",
   "name": "python",
   "nbconvert_exporter": "python",
   "pygments_lexer": "ipython3",
   "version": "3.7.3"
  }
 },
 "nbformat": 4,
 "nbformat_minor": 2
}
